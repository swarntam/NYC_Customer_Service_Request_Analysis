{
 "cells": [
  {
   "cell_type": "code",
   "execution_count": 1,
   "id": "f0ba64b3",
   "metadata": {},
   "outputs": [],
   "source": [
    "# Importing the required libraries.\n",
    "import numpy as np\n",
    "import pandas as pd\n",
    "import matplotlib.pyplot as plt\n",
    "import seaborn as sns\n",
    "sns.set()\n",
    "\n",
    "import warnings\n",
    "warnings.filterwarnings(\"ignore\")"
   ]
  },
  {
   "cell_type": "code",
   "execution_count": 2,
   "id": "069616cf",
   "metadata": {},
   "outputs": [
    {
     "data": {
      "text/html": [
       "<div>\n",
       "<style scoped>\n",
       "    .dataframe tbody tr th:only-of-type {\n",
       "        vertical-align: middle;\n",
       "    }\n",
       "\n",
       "    .dataframe tbody tr th {\n",
       "        vertical-align: top;\n",
       "    }\n",
       "\n",
       "    .dataframe thead th {\n",
       "        text-align: right;\n",
       "    }\n",
       "</style>\n",
       "<table border=\"1\" class=\"dataframe\">\n",
       "  <thead>\n",
       "    <tr style=\"text-align: right;\">\n",
       "      <th></th>\n",
       "      <th>Unique Key</th>\n",
       "      <th>Created Date</th>\n",
       "      <th>Closed Date</th>\n",
       "      <th>Agency</th>\n",
       "      <th>Agency Name</th>\n",
       "      <th>Complaint Type</th>\n",
       "      <th>Descriptor</th>\n",
       "      <th>Location Type</th>\n",
       "      <th>Incident Zip</th>\n",
       "      <th>Incident Address</th>\n",
       "      <th>...</th>\n",
       "      <th>Bridge Highway Name</th>\n",
       "      <th>Bridge Highway Direction</th>\n",
       "      <th>Road Ramp</th>\n",
       "      <th>Bridge Highway Segment</th>\n",
       "      <th>Garage Lot Name</th>\n",
       "      <th>Ferry Direction</th>\n",
       "      <th>Ferry Terminal Name</th>\n",
       "      <th>Latitude</th>\n",
       "      <th>Longitude</th>\n",
       "      <th>Location</th>\n",
       "    </tr>\n",
       "  </thead>\n",
       "  <tbody>\n",
       "    <tr>\n",
       "      <th>0</th>\n",
       "      <td>32310363</td>\n",
       "      <td>12/31/2015 11:59:45 PM</td>\n",
       "      <td>01-01-16 0:55</td>\n",
       "      <td>NYPD</td>\n",
       "      <td>New York City Police Department</td>\n",
       "      <td>Noise - Street/Sidewalk</td>\n",
       "      <td>Loud Music/Party</td>\n",
       "      <td>Street/Sidewalk</td>\n",
       "      <td>10034.0</td>\n",
       "      <td>71 VERMILYEA AVENUE</td>\n",
       "      <td>...</td>\n",
       "      <td>NaN</td>\n",
       "      <td>NaN</td>\n",
       "      <td>NaN</td>\n",
       "      <td>NaN</td>\n",
       "      <td>NaN</td>\n",
       "      <td>NaN</td>\n",
       "      <td>NaN</td>\n",
       "      <td>40.865682</td>\n",
       "      <td>-73.923501</td>\n",
       "      <td>(40.86568153633767, -73.92350095571744)</td>\n",
       "    </tr>\n",
       "    <tr>\n",
       "      <th>1</th>\n",
       "      <td>32309934</td>\n",
       "      <td>12/31/2015 11:59:44 PM</td>\n",
       "      <td>01-01-16 1:26</td>\n",
       "      <td>NYPD</td>\n",
       "      <td>New York City Police Department</td>\n",
       "      <td>Blocked Driveway</td>\n",
       "      <td>No Access</td>\n",
       "      <td>Street/Sidewalk</td>\n",
       "      <td>11105.0</td>\n",
       "      <td>27-07 23 AVENUE</td>\n",
       "      <td>...</td>\n",
       "      <td>NaN</td>\n",
       "      <td>NaN</td>\n",
       "      <td>NaN</td>\n",
       "      <td>NaN</td>\n",
       "      <td>NaN</td>\n",
       "      <td>NaN</td>\n",
       "      <td>NaN</td>\n",
       "      <td>40.775945</td>\n",
       "      <td>-73.915094</td>\n",
       "      <td>(40.775945312321085, -73.91509393898605)</td>\n",
       "    </tr>\n",
       "    <tr>\n",
       "      <th>2</th>\n",
       "      <td>32309159</td>\n",
       "      <td>12/31/2015 11:59:29 PM</td>\n",
       "      <td>01-01-16 4:51</td>\n",
       "      <td>NYPD</td>\n",
       "      <td>New York City Police Department</td>\n",
       "      <td>Blocked Driveway</td>\n",
       "      <td>No Access</td>\n",
       "      <td>Street/Sidewalk</td>\n",
       "      <td>10458.0</td>\n",
       "      <td>2897 VALENTINE AVENUE</td>\n",
       "      <td>...</td>\n",
       "      <td>NaN</td>\n",
       "      <td>NaN</td>\n",
       "      <td>NaN</td>\n",
       "      <td>NaN</td>\n",
       "      <td>NaN</td>\n",
       "      <td>NaN</td>\n",
       "      <td>NaN</td>\n",
       "      <td>40.870325</td>\n",
       "      <td>-73.888525</td>\n",
       "      <td>(40.870324522111424, -73.88852464418646)</td>\n",
       "    </tr>\n",
       "    <tr>\n",
       "      <th>3</th>\n",
       "      <td>32305098</td>\n",
       "      <td>12/31/2015 11:57:46 PM</td>\n",
       "      <td>01-01-16 7:43</td>\n",
       "      <td>NYPD</td>\n",
       "      <td>New York City Police Department</td>\n",
       "      <td>Illegal Parking</td>\n",
       "      <td>Commercial Overnight Parking</td>\n",
       "      <td>Street/Sidewalk</td>\n",
       "      <td>10461.0</td>\n",
       "      <td>2940 BAISLEY AVENUE</td>\n",
       "      <td>...</td>\n",
       "      <td>NaN</td>\n",
       "      <td>NaN</td>\n",
       "      <td>NaN</td>\n",
       "      <td>NaN</td>\n",
       "      <td>NaN</td>\n",
       "      <td>NaN</td>\n",
       "      <td>NaN</td>\n",
       "      <td>40.835994</td>\n",
       "      <td>-73.828379</td>\n",
       "      <td>(40.83599404683083, -73.82837939584206)</td>\n",
       "    </tr>\n",
       "    <tr>\n",
       "      <th>4</th>\n",
       "      <td>32306529</td>\n",
       "      <td>12/31/2015 11:56:58 PM</td>\n",
       "      <td>01-01-16 3:24</td>\n",
       "      <td>NYPD</td>\n",
       "      <td>New York City Police Department</td>\n",
       "      <td>Illegal Parking</td>\n",
       "      <td>Blocked Sidewalk</td>\n",
       "      <td>Street/Sidewalk</td>\n",
       "      <td>11373.0</td>\n",
       "      <td>87-14 57 ROAD</td>\n",
       "      <td>...</td>\n",
       "      <td>NaN</td>\n",
       "      <td>NaN</td>\n",
       "      <td>NaN</td>\n",
       "      <td>NaN</td>\n",
       "      <td>NaN</td>\n",
       "      <td>NaN</td>\n",
       "      <td>NaN</td>\n",
       "      <td>40.733060</td>\n",
       "      <td>-73.874170</td>\n",
       "      <td>(40.733059618956815, -73.87416975810375)</td>\n",
       "    </tr>\n",
       "  </tbody>\n",
       "</table>\n",
       "<p>5 rows × 53 columns</p>\n",
       "</div>"
      ],
      "text/plain": [
       "   Unique Key            Created Date    Closed Date Agency  \\\n",
       "0    32310363  12/31/2015 11:59:45 PM  01-01-16 0:55   NYPD   \n",
       "1    32309934  12/31/2015 11:59:44 PM  01-01-16 1:26   NYPD   \n",
       "2    32309159  12/31/2015 11:59:29 PM  01-01-16 4:51   NYPD   \n",
       "3    32305098  12/31/2015 11:57:46 PM  01-01-16 7:43   NYPD   \n",
       "4    32306529  12/31/2015 11:56:58 PM  01-01-16 3:24   NYPD   \n",
       "\n",
       "                       Agency Name           Complaint Type  \\\n",
       "0  New York City Police Department  Noise - Street/Sidewalk   \n",
       "1  New York City Police Department         Blocked Driveway   \n",
       "2  New York City Police Department         Blocked Driveway   \n",
       "3  New York City Police Department          Illegal Parking   \n",
       "4  New York City Police Department          Illegal Parking   \n",
       "\n",
       "                     Descriptor    Location Type  Incident Zip  \\\n",
       "0              Loud Music/Party  Street/Sidewalk       10034.0   \n",
       "1                     No Access  Street/Sidewalk       11105.0   \n",
       "2                     No Access  Street/Sidewalk       10458.0   \n",
       "3  Commercial Overnight Parking  Street/Sidewalk       10461.0   \n",
       "4              Blocked Sidewalk  Street/Sidewalk       11373.0   \n",
       "\n",
       "        Incident Address  ... Bridge Highway Name Bridge Highway Direction  \\\n",
       "0    71 VERMILYEA AVENUE  ...                 NaN                      NaN   \n",
       "1        27-07 23 AVENUE  ...                 NaN                      NaN   \n",
       "2  2897 VALENTINE AVENUE  ...                 NaN                      NaN   \n",
       "3    2940 BAISLEY AVENUE  ...                 NaN                      NaN   \n",
       "4          87-14 57 ROAD  ...                 NaN                      NaN   \n",
       "\n",
       "  Road Ramp Bridge Highway Segment Garage Lot Name Ferry Direction  \\\n",
       "0       NaN                    NaN             NaN             NaN   \n",
       "1       NaN                    NaN             NaN             NaN   \n",
       "2       NaN                    NaN             NaN             NaN   \n",
       "3       NaN                    NaN             NaN             NaN   \n",
       "4       NaN                    NaN             NaN             NaN   \n",
       "\n",
       "  Ferry Terminal Name   Latitude  Longitude  \\\n",
       "0                 NaN  40.865682 -73.923501   \n",
       "1                 NaN  40.775945 -73.915094   \n",
       "2                 NaN  40.870325 -73.888525   \n",
       "3                 NaN  40.835994 -73.828379   \n",
       "4                 NaN  40.733060 -73.874170   \n",
       "\n",
       "                                   Location  \n",
       "0   (40.86568153633767, -73.92350095571744)  \n",
       "1  (40.775945312321085, -73.91509393898605)  \n",
       "2  (40.870324522111424, -73.88852464418646)  \n",
       "3   (40.83599404683083, -73.82837939584206)  \n",
       "4  (40.733059618956815, -73.87416975810375)  \n",
       "\n",
       "[5 rows x 53 columns]"
      ]
     },
     "execution_count": 2,
     "metadata": {},
     "output_type": "execute_result"
    }
   ],
   "source": [
    "# Importing the data in Python Environment.\n",
    "data = pd.read_csv(\"311_Service_Requests_from_2010_to_Present.csv\")\n",
    "data.head()"
   ]
  },
  {
   "cell_type": "markdown",
   "id": "9f04053b",
   "metadata": {},
   "source": [
    "### Exploratory Data Analysis -"
   ]
  },
  {
   "cell_type": "code",
   "execution_count": 3,
   "id": "ab9d0165",
   "metadata": {},
   "outputs": [
    {
     "data": {
      "text/plain": [
       "(300698, 53)"
      ]
     },
     "execution_count": 3,
     "metadata": {},
     "output_type": "execute_result"
    }
   ],
   "source": [
    "data.shape"
   ]
  },
  {
   "cell_type": "markdown",
   "id": "a1b3d951",
   "metadata": {},
   "source": [
    "- The dataset is huge and has 53 features."
   ]
  },
  {
   "cell_type": "code",
   "execution_count": 4,
   "id": "883dbfca",
   "metadata": {},
   "outputs": [
    {
     "data": {
      "text/plain": [
       "Index(['Unique Key', 'Created Date', 'Closed Date', 'Agency', 'Agency Name',\n",
       "       'Complaint Type', 'Descriptor', 'Location Type', 'Incident Zip',\n",
       "       'Incident Address', 'Street Name', 'Cross Street 1', 'Cross Street 2',\n",
       "       'Intersection Street 1', 'Intersection Street 2', 'Address Type',\n",
       "       'City', 'Landmark', 'Facility Type', 'Status', 'Due Date',\n",
       "       'Resolution Description', 'Resolution Action Updated Date',\n",
       "       'Community Board', 'Borough', 'X Coordinate (State Plane)',\n",
       "       'Y Coordinate (State Plane)', 'Park Facility Name', 'Park Borough',\n",
       "       'School Name', 'School Number', 'School Region', 'School Code',\n",
       "       'School Phone Number', 'School Address', 'School City', 'School State',\n",
       "       'School Zip', 'School Not Found', 'School or Citywide Complaint',\n",
       "       'Vehicle Type', 'Taxi Company Borough', 'Taxi Pick Up Location',\n",
       "       'Bridge Highway Name', 'Bridge Highway Direction', 'Road Ramp',\n",
       "       'Bridge Highway Segment', 'Garage Lot Name', 'Ferry Direction',\n",
       "       'Ferry Terminal Name', 'Latitude', 'Longitude', 'Location'],\n",
       "      dtype='object')"
      ]
     },
     "execution_count": 4,
     "metadata": {},
     "output_type": "execute_result"
    }
   ],
   "source": [
    "data.columns"
   ]
  },
  {
   "cell_type": "code",
   "execution_count": 5,
   "id": "a2e719dd",
   "metadata": {},
   "outputs": [
    {
     "data": {
      "text/plain": [
       "35"
      ]
     },
     "execution_count": 5,
     "metadata": {},
     "output_type": "execute_result"
    }
   ],
   "source": [
    "data.isnull().any().sum()"
   ]
  },
  {
   "cell_type": "markdown",
   "id": "cf2d4e82",
   "metadata": {},
   "source": [
    "- There are 35 columns having missing values."
   ]
  },
  {
   "cell_type": "markdown",
   "id": "27c4ab46",
   "metadata": {},
   "source": [
    "Let's see how many missing values we have in each column -"
   ]
  },
  {
   "cell_type": "code",
   "execution_count": 6,
   "id": "af7a0f66",
   "metadata": {},
   "outputs": [
    {
     "data": {
      "text/plain": [
       "Index(['Closed Date', 'Descriptor', 'Location Type', 'Incident Zip',\n",
       "       'Incident Address', 'Street Name', 'Cross Street 1', 'Cross Street 2',\n",
       "       'Intersection Street 1', 'Intersection Street 2', 'Address Type',\n",
       "       'City', 'Landmark', 'Facility Type', 'Due Date',\n",
       "       'Resolution Action Updated Date', 'X Coordinate (State Plane)',\n",
       "       'Y Coordinate (State Plane)', 'School Region', 'School Code',\n",
       "       'School Zip', 'School or Citywide Complaint', 'Vehicle Type',\n",
       "       'Taxi Company Borough', 'Taxi Pick Up Location', 'Bridge Highway Name',\n",
       "       'Bridge Highway Direction', 'Road Ramp', 'Bridge Highway Segment',\n",
       "       'Garage Lot Name', 'Ferry Direction', 'Ferry Terminal Name', 'Latitude',\n",
       "       'Longitude', 'Location'],\n",
       "      dtype='object')"
      ]
     },
     "execution_count": 6,
     "metadata": {},
     "output_type": "execute_result"
    }
   ],
   "source": [
    "missing_cols = data.columns[data.isnull().any()]\n",
    "missing_cols"
   ]
  },
  {
   "cell_type": "code",
   "execution_count": 7,
   "id": "ad75e7af",
   "metadata": {},
   "outputs": [
    {
     "data": {
      "text/plain": [
       "{'Closed Date': 0.72,\n",
       " 'Descriptor': 1.97,\n",
       " 'Location Type': 0.04,\n",
       " 'Incident Zip': 0.87,\n",
       " 'Incident Address': 14.77,\n",
       " 'Street Name': 14.77,\n",
       " 'Cross Street 1': 16.39,\n",
       " 'Cross Street 2': 16.55,\n",
       " 'Intersection Street 1': 85.41,\n",
       " 'Intersection Street 2': 85.58,\n",
       " 'Address Type': 0.94,\n",
       " 'City': 0.87,\n",
       " 'Landmark': 99.88,\n",
       " 'Facility Type': 0.72,\n",
       " 'Due Date': 0.0,\n",
       " 'Resolution Action Updated Date': 0.73,\n",
       " 'X Coordinate (State Plane)': 1.18,\n",
       " 'Y Coordinate (State Plane)': 1.18,\n",
       " 'School Region': 0.0,\n",
       " 'School Code': 0.0,\n",
       " 'School Zip': 0.0,\n",
       " 'School or Citywide Complaint': 100.0,\n",
       " 'Vehicle Type': 100.0,\n",
       " 'Taxi Company Borough': 100.0,\n",
       " 'Taxi Pick Up Location': 100.0,\n",
       " 'Bridge Highway Name': 99.92,\n",
       " 'Bridge Highway Direction': 99.92,\n",
       " 'Road Ramp': 99.93,\n",
       " 'Bridge Highway Segment': 99.93,\n",
       " 'Garage Lot Name': 100.0,\n",
       " 'Ferry Direction': 100.0,\n",
       " 'Ferry Terminal Name': 100.0,\n",
       " 'Latitude': 1.18,\n",
       " 'Longitude': 1.18,\n",
       " 'Location': 1.18}"
      ]
     },
     "execution_count": 7,
     "metadata": {},
     "output_type": "execute_result"
    }
   ],
   "source": [
    "# Creating a dict with missing_cols as keys.\n",
    "# And percentage of missing values as values.\n",
    "d = {}\n",
    "for i in missing_cols:\n",
    "    ratio = (data[i].isnull().sum()) / len(data)\n",
    "    d[i] = round(ratio*100, 2) \n",
    "d        "
   ]
  },
  {
   "cell_type": "markdown",
   "id": "77e630b6",
   "metadata": {},
   "source": [
    "- We can see there are some columns having 100% null values.\n",
    "- We can simply drop columns having more than 50% missing values.\n",
    "- As imputing that much values would result in bias."
   ]
  },
  {
   "cell_type": "code",
   "execution_count": 8,
   "id": "b99e969b",
   "metadata": {},
   "outputs": [
    {
     "name": "stdout",
     "output_type": "stream",
     "text": [
      "Total number of columns :  14\n",
      "['Intersection Street 1', 'Intersection Street 2', 'Landmark', 'School or Citywide Complaint', 'Vehicle Type', 'Taxi Company Borough', 'Taxi Pick Up Location', 'Bridge Highway Name', 'Bridge Highway Direction', 'Road Ramp', 'Bridge Highway Segment', 'Garage Lot Name', 'Ferry Direction', 'Ferry Terminal Name']\n"
     ]
    }
   ],
   "source": [
    "cols_to_drop = []\n",
    "for i in d.keys():\n",
    "    if d[i] > 50 :\n",
    "        cols_to_drop.append(i)\n",
    "print('Total number of columns : ',len(cols_to_drop))\n",
    "print(cols_to_drop)        "
   ]
  },
  {
   "cell_type": "markdown",
   "id": "d13a9b8f",
   "metadata": {},
   "source": [
    "- We have 14 columns having more than 50% missing values."
   ]
  },
  {
   "cell_type": "markdown",
   "id": "a7c33677",
   "metadata": {},
   "source": [
    "Let's drop them -"
   ]
  },
  {
   "cell_type": "code",
   "execution_count": 9,
   "id": "7edd87b7",
   "metadata": {},
   "outputs": [
    {
     "data": {
      "text/plain": [
       "(300698, 39)"
      ]
     },
     "execution_count": 9,
     "metadata": {},
     "output_type": "execute_result"
    }
   ],
   "source": [
    "# Creating a copy of original df and dropping columns.\n",
    "df = data.copy()\n",
    "df.drop(cols_to_drop,axis=1,inplace=True)\n",
    "df.shape"
   ]
  },
  {
   "cell_type": "markdown",
   "id": "4540fde4",
   "metadata": {},
   "source": [
    "- We can see the columns have been dropped."
   ]
  },
  {
   "cell_type": "code",
   "execution_count": 10,
   "id": "1ad0fde7",
   "metadata": {},
   "outputs": [
    {
     "name": "stdout",
     "output_type": "stream",
     "text": [
      "['Closed Date', 'Descriptor', 'Location Type', 'Incident Zip', 'Incident Address', 'Street Name', 'Cross Street 1', 'Cross Street 2', 'Address Type', 'City', 'Facility Type', 'Due Date', 'Resolution Action Updated Date', 'X Coordinate (State Plane)', 'Y Coordinate (State Plane)', 'School Region', 'School Code', 'School Zip', 'Latitude', 'Longitude', 'Location']\n"
     ]
    }
   ],
   "source": [
    "rest_missing_cols = [x for x in missing_cols if x in df.columns]\n",
    "print(rest_missing_cols)"
   ]
  },
  {
   "cell_type": "markdown",
   "id": "c88a2310",
   "metadata": {},
   "source": [
    "- For the rest of missing columns, the information like date, location, Address, Zip are very **precise** and hence imputing them with any measure **won't** be a good option. \n",
    "- We will use nan features of numpy if neeeded for analysis."
   ]
  },
  {
   "cell_type": "code",
   "execution_count": 11,
   "id": "e2bb8b62",
   "metadata": {},
   "outputs": [
    {
     "name": "stdout",
     "output_type": "stream",
     "text": [
      "<class 'pandas.core.frame.DataFrame'>\n",
      "RangeIndex: 300698 entries, 0 to 300697\n",
      "Data columns (total 39 columns):\n",
      " #   Column                          Non-Null Count   Dtype  \n",
      "---  ------                          --------------   -----  \n",
      " 0   Unique Key                      300698 non-null  int64  \n",
      " 1   Created Date                    300698 non-null  object \n",
      " 2   Closed Date                     298534 non-null  object \n",
      " 3   Agency                          300698 non-null  object \n",
      " 4   Agency Name                     300698 non-null  object \n",
      " 5   Complaint Type                  300698 non-null  object \n",
      " 6   Descriptor                      294784 non-null  object \n",
      " 7   Location Type                   300567 non-null  object \n",
      " 8   Incident Zip                    298083 non-null  float64\n",
      " 9   Incident Address                256288 non-null  object \n",
      " 10  Street Name                     256288 non-null  object \n",
      " 11  Cross Street 1                  251419 non-null  object \n",
      " 12  Cross Street 2                  250919 non-null  object \n",
      " 13  Address Type                    297883 non-null  object \n",
      " 14  City                            298084 non-null  object \n",
      " 15  Facility Type                   298527 non-null  object \n",
      " 16  Status                          300698 non-null  object \n",
      " 17  Due Date                        300695 non-null  object \n",
      " 18  Resolution Description          300698 non-null  object \n",
      " 19  Resolution Action Updated Date  298511 non-null  object \n",
      " 20  Community Board                 300698 non-null  object \n",
      " 21  Borough                         300698 non-null  object \n",
      " 22  X Coordinate (State Plane)      297158 non-null  float64\n",
      " 23  Y Coordinate (State Plane)      297158 non-null  float64\n",
      " 24  Park Facility Name              300698 non-null  object \n",
      " 25  Park Borough                    300698 non-null  object \n",
      " 26  School Name                     300698 non-null  object \n",
      " 27  School Number                   300698 non-null  object \n",
      " 28  School Region                   300697 non-null  object \n",
      " 29  School Code                     300697 non-null  object \n",
      " 30  School Phone Number             300698 non-null  object \n",
      " 31  School Address                  300698 non-null  object \n",
      " 32  School City                     300698 non-null  object \n",
      " 33  School State                    300698 non-null  object \n",
      " 34  School Zip                      300697 non-null  object \n",
      " 35  School Not Found                300698 non-null  object \n",
      " 36  Latitude                        297158 non-null  float64\n",
      " 37  Longitude                       297158 non-null  float64\n",
      " 38  Location                        297158 non-null  object \n",
      "dtypes: float64(5), int64(1), object(33)\n",
      "memory usage: 89.5+ MB\n"
     ]
    }
   ],
   "source": [
    "df.info()"
   ]
  },
  {
   "cell_type": "markdown",
   "id": "6230b4d3",
   "metadata": {},
   "source": [
    "- The columns *Created Date, Closed Date* and *Resolution Action Updated Date* are of object data type.\n",
    "- We need to convert these to pandas **datetime** format."
   ]
  },
  {
   "cell_type": "code",
   "execution_count": 12,
   "id": "b0ecb318",
   "metadata": {},
   "outputs": [],
   "source": [
    "df['Created Date'] = pd.to_datetime(df['Created Date'])\n",
    "df['Closed Date'] = pd.to_datetime(df['Closed Date'])\n",
    "df['Resolution Action Updated Date'] = pd.to_datetime(df['Resolution Action Updated Date'])"
   ]
  },
  {
   "cell_type": "markdown",
   "id": "b328479b",
   "metadata": {},
   "source": [
    "Let's verify -"
   ]
  },
  {
   "cell_type": "code",
   "execution_count": 13,
   "id": "6608dac9",
   "metadata": {},
   "outputs": [
    {
     "name": "stdout",
     "output_type": "stream",
     "text": [
      "<class 'pandas.core.frame.DataFrame'>\n",
      "RangeIndex: 300698 entries, 0 to 300697\n",
      "Data columns (total 39 columns):\n",
      " #   Column                          Non-Null Count   Dtype         \n",
      "---  ------                          --------------   -----         \n",
      " 0   Unique Key                      300698 non-null  int64         \n",
      " 1   Created Date                    300698 non-null  datetime64[ns]\n",
      " 2   Closed Date                     298534 non-null  datetime64[ns]\n",
      " 3   Agency                          300698 non-null  object        \n",
      " 4   Agency Name                     300698 non-null  object        \n",
      " 5   Complaint Type                  300698 non-null  object        \n",
      " 6   Descriptor                      294784 non-null  object        \n",
      " 7   Location Type                   300567 non-null  object        \n",
      " 8   Incident Zip                    298083 non-null  float64       \n",
      " 9   Incident Address                256288 non-null  object        \n",
      " 10  Street Name                     256288 non-null  object        \n",
      " 11  Cross Street 1                  251419 non-null  object        \n",
      " 12  Cross Street 2                  250919 non-null  object        \n",
      " 13  Address Type                    297883 non-null  object        \n",
      " 14  City                            298084 non-null  object        \n",
      " 15  Facility Type                   298527 non-null  object        \n",
      " 16  Status                          300698 non-null  object        \n",
      " 17  Due Date                        300695 non-null  object        \n",
      " 18  Resolution Description          300698 non-null  object        \n",
      " 19  Resolution Action Updated Date  298511 non-null  datetime64[ns]\n",
      " 20  Community Board                 300698 non-null  object        \n",
      " 21  Borough                         300698 non-null  object        \n",
      " 22  X Coordinate (State Plane)      297158 non-null  float64       \n",
      " 23  Y Coordinate (State Plane)      297158 non-null  float64       \n",
      " 24  Park Facility Name              300698 non-null  object        \n",
      " 25  Park Borough                    300698 non-null  object        \n",
      " 26  School Name                     300698 non-null  object        \n",
      " 27  School Number                   300698 non-null  object        \n",
      " 28  School Region                   300697 non-null  object        \n",
      " 29  School Code                     300697 non-null  object        \n",
      " 30  School Phone Number             300698 non-null  object        \n",
      " 31  School Address                  300698 non-null  object        \n",
      " 32  School City                     300698 non-null  object        \n",
      " 33  School State                    300698 non-null  object        \n",
      " 34  School Zip                      300697 non-null  object        \n",
      " 35  School Not Found                300698 non-null  object        \n",
      " 36  Latitude                        297158 non-null  float64       \n",
      " 37  Longitude                       297158 non-null  float64       \n",
      " 38  Location                        297158 non-null  object        \n",
      "dtypes: datetime64[ns](3), float64(5), int64(1), object(30)\n",
      "memory usage: 89.5+ MB\n"
     ]
    }
   ],
   "source": [
    "df.info()"
   ]
  },
  {
   "cell_type": "markdown",
   "id": "e45328aa",
   "metadata": {},
   "source": [
    "### Major Insights "
   ]
  },
  {
   "cell_type": "markdown",
   "id": "91eeb79f",
   "metadata": {},
   "source": [
    "Since the data is about complaints, let's look for major complaint types -"
   ]
  },
  {
   "cell_type": "code",
   "execution_count": 14,
   "id": "a7e3374f",
   "metadata": {},
   "outputs": [
    {
     "data": {
      "text/plain": [
       "Blocked Driveway             77044\n",
       "Illegal Parking              75361\n",
       "Noise - Street/Sidewalk      48612\n",
       "Noise - Commercial           35577\n",
       "Derelict Vehicle             17718\n",
       "Noise - Vehicle              17083\n",
       "Animal Abuse                  7778\n",
       "Traffic                       4498\n",
       "Homeless Encampment           4416\n",
       "Noise - Park                  4042\n",
       "Vending                       3802\n",
       "Drinking                      1280\n",
       "Noise - House of Worship       931\n",
       "Posting Advertisement          650\n",
       "Urinating in Public            592\n",
       "Bike/Roller/Skate Chronic      427\n",
       "Panhandling                    307\n",
       "Disorderly Youth               286\n",
       "Illegal Fireworks              168\n",
       "Graffiti                       113\n",
       "Agency Issues                    6\n",
       "Squeegee                         4\n",
       "Ferry Complaint                  2\n",
       "Animal in a Park                 1\n",
       "Name: Complaint Type, dtype: int64"
      ]
     },
     "execution_count": 14,
     "metadata": {},
     "output_type": "execute_result"
    }
   ],
   "source": [
    "df['Complaint Type'].value_counts(sort=True)"
   ]
  },
  {
   "cell_type": "markdown",
   "id": "de0c3cba",
   "metadata": {},
   "source": [
    "Let's have a look on most frequent and least frequent *Complaint Type* -"
   ]
  },
  {
   "cell_type": "code",
   "execution_count": 15,
   "id": "7928de25",
   "metadata": {},
   "outputs": [
    {
     "data": {
      "image/png": "[encoded data removed]",
      "text/plain": [
       "<Figure size 720x432 with 1 Axes>"
      ]
     },
     "metadata": {},
     "output_type": "display_data"
    }
   ],
   "source": [
    "# Most frequent Complaint Type.\n",
    "plt.figure(figsize=(10,6))\n",
    "df['Complaint Type'].value_counts(sort=True)[:10].plot(kind='barh')\n",
    "plt.title('Most Frequent Complaint Types', fontsize=15)\n",
    "plt.show()"
   ]
  },
  {
   "cell_type": "code",
   "execution_count": 16,
   "id": "ac76fca6",
   "metadata": {},
   "outputs": [
    {
     "data": {
      "image/png": "[encoded data removed]",
      "text/plain": [
       "<Figure size 720x432 with 1 Axes>"
      ]
     },
     "metadata": {},
     "output_type": "display_data"
    }
   ],
   "source": [
    "# Least frequent Complaint Type.\n",
    "plt.figure(figsize=(10,6))\n",
    "df['Complaint Type'].value_counts(sort=True)[-10:].plot(kind='barh')\n",
    "plt.title('Least Frequent Complaint Types', fontsize=15)\n",
    "plt.show()"
   ]
  },
  {
   "cell_type": "markdown",
   "id": "92835f58",
   "metadata": {},
   "source": [
    "- Most of the complaints were of *Blocked Driveway* followed by *illegal driving*.\n",
    "- Least complaints were related to *Animal in a park* and *Ferry Complaint*."
   ]
  },
  {
   "cell_type": "markdown",
   "id": "033c6730",
   "metadata": {},
   "source": [
    "Now, Let's have a look on complaints specifying the community board - "
   ]
  },
  {
   "cell_type": "code",
   "execution_count": 17,
   "id": "b73b99fb",
   "metadata": {},
   "outputs": [
    {
     "data": {
      "text/plain": [
       "BROOKLYN         98307\n",
       "QUEENS           80641\n",
       "MANHATTAN        66131\n",
       "BRONX            40702\n",
       "STATEN ISLAND    12343\n",
       "Unspecified       2574\n",
       "Name: Borough, dtype: int64"
      ]
     },
     "execution_count": 17,
     "metadata": {},
     "output_type": "execute_result"
    }
   ],
   "source": [
    "df['Borough'].value_counts()"
   ]
  },
  {
   "cell_type": "code",
   "execution_count": 18,
   "id": "7f5ebf42",
   "metadata": {},
   "outputs": [
    {
     "data": {
      "image/png": "[encoded data removed]",
      "text/plain": [
       "<Figure size 720x432 with 1 Axes>"
      ]
     },
     "metadata": {},
     "output_type": "display_data"
    }
   ],
   "source": [
    "df['Borough'].value_counts().plot(kind='pie',autopct='%0.2f%%',\n",
    "                                  colors=sns.color_palette('Set2'),\n",
    "                                  explode=[0.05,0.04,0.03,0.02,0.01,0],\n",
    "                                  figsize=(10,6))\n",
    "plt.title(\"Complaints across Borough\", fontsize=15)\n",
    "plt.show()"
   ]
  },
  {
   "cell_type": "markdown",
   "id": "3f5e7183",
   "metadata": {},
   "source": [
    "Let's explore the location types from where complaints were received -"
   ]
  },
  {
   "cell_type": "code",
   "execution_count": 19,
   "id": "98325bdd",
   "metadata": {},
   "outputs": [
    {
     "data": {
      "text/plain": [
       "Street/Sidewalk               249299\n",
       "Store/Commercial               20381\n",
       "Club/Bar/Restaurant            17360\n",
       "Residential Building/House      6960\n",
       "Park/Playground                 4773\n",
       "House of Worship                 929\n",
       "Residential Building             227\n",
       "Highway                          215\n",
       "Parking Lot                      117\n",
       "House and Store                   93\n",
       "Vacant Lot                        77\n",
       "Commercial                        62\n",
       "Roadway Tunnel                    35\n",
       "Subway Station                    34\n",
       "Bridge                             2\n",
       "Terminal                           1\n",
       "Ferry                              1\n",
       "Park                               1\n",
       "Name: Location Type, dtype: int64"
      ]
     },
     "execution_count": 19,
     "metadata": {},
     "output_type": "execute_result"
    }
   ],
   "source": [
    "df['Location Type'].value_counts(sort=True)"
   ]
  },
  {
   "cell_type": "code",
   "execution_count": 20,
   "id": "22103b29",
   "metadata": {},
   "outputs": [
    {
     "data": {
      "image/png": "[encoded data removed]",
      "text/plain": [
       "<Figure size 864x432 with 1 Axes>"
      ]
     },
     "metadata": {},
     "output_type": "display_data"
    }
   ],
   "source": [
    "# Visualizing the above\n",
    "plt.figure(figsize=(12,6))\n",
    "df['Location Type'].value_counts(sort=True).plot(kind='barh')\n",
    "plt.title('Number of Complaint across Location Types', fontsize=15)\n",
    "plt.show()"
   ]
  },
  {
   "cell_type": "markdown",
   "id": "77a069a8",
   "metadata": {},
   "source": [
    "- *Street/SideWalk* is the location from where maximum complaints were received.\n",
    "- Only 1 complain was received from *Park, ferry* and *terminal*."
   ]
  },
  {
   "cell_type": "markdown",
   "id": "5fa4ec82",
   "metadata": {},
   "source": [
    "Let's see month-wise complaints -"
   ]
  },
  {
   "cell_type": "code",
   "execution_count": 21,
   "id": "3f1c2d39",
   "metadata": {},
   "outputs": [
    {
     "data": {
      "text/plain": [
       "5     36437\n",
       "9     35427\n",
       "6     35315\n",
       "8     34956\n",
       "7     34888\n",
       "10    32605\n",
       "11    30773\n",
       "12    30521\n",
       "4     27305\n",
       "3      2471\n",
       "Name: Month, dtype: int64"
      ]
     },
     "execution_count": 21,
     "metadata": {},
     "output_type": "execute_result"
    }
   ],
   "source": [
    "# Creating a new variabe to extract month.\n",
    "df['Month'] = df['Created Date'].dt.month\n",
    "df['Month'].value_counts()"
   ]
  },
  {
   "cell_type": "code",
   "execution_count": 22,
   "id": "25be885d",
   "metadata": {},
   "outputs": [
    {
     "data": {
      "image/png": "[encoded data removed]",
      "text/plain": [
       "<Figure size 864x432 with 1 Axes>"
      ]
     },
     "metadata": {},
     "output_type": "display_data"
    }
   ],
   "source": [
    "plt.figure(figsize=(12,6))\n",
    "sns.countplot(x='Month', data=df, color='b')\n",
    "plt.title('Complaints Received Monthwise')\n",
    "plt.grid(axis='y')\n",
    "plt.show()"
   ]
  },
  {
   "cell_type": "markdown",
   "id": "4411c569",
   "metadata": {},
   "source": [
    "- The highest number of complaints were received in the Month of *May*.\n",
    "- The least number of complaints were received in the Month of *March*."
   ]
  },
  {
   "cell_type": "markdown",
   "id": "d94d9558",
   "metadata": {},
   "source": [
    "### Create a new column ‘Request_Closing_Time’ as the time elapsed between request creation and request closing."
   ]
  },
  {
   "cell_type": "code",
   "execution_count": 23,
   "id": "51c26c0b",
   "metadata": {},
   "outputs": [
    {
     "data": {
      "text/plain": [
       "0        0 days 00:55:15\n",
       "1        0 days 01:26:16\n",
       "2        0 days 04:51:31\n",
       "3        0 days 07:45:14\n",
       "4        0 days 03:27:02\n",
       "               ...      \n",
       "300693               NaT\n",
       "300694   0 days 02:00:31\n",
       "300695   0 days 03:07:17\n",
       "300696   0 days 04:05:33\n",
       "300697   0 days 04:08:49\n",
       "Name: Request_Closing_Time, Length: 300698, dtype: timedelta64[ns]"
      ]
     },
     "execution_count": 23,
     "metadata": {},
     "output_type": "execute_result"
    }
   ],
   "source": [
    "df['Request_Closing_Time'] = df['Closed Date'] - df['Created Date']\n",
    "df['Request_Closing_Time']"
   ]
  },
  {
   "cell_type": "markdown",
   "id": "f479a37d",
   "metadata": {},
   "source": [
    "- What we got is time duration including days,hours,minutes and seconds.\n",
    "- It would be more suitable if we convert them into minutes."
   ]
  },
  {
   "cell_type": "code",
   "execution_count": 24,
   "id": "f239e9bd",
   "metadata": {},
   "outputs": [
    {
     "data": {
      "text/plain": [
       "0          55.250000\n",
       "1          86.266667\n",
       "2         291.516667\n",
       "3         465.233333\n",
       "4         207.033333\n",
       "             ...    \n",
       "300693           NaN\n",
       "300694    120.516667\n",
       "300695    187.283333\n",
       "300696    245.550000\n",
       "300697    248.816667\n",
       "Name: Request_Closing_Time, Length: 300698, dtype: float64"
      ]
     },
     "execution_count": 24,
     "metadata": {},
     "output_type": "execute_result"
    }
   ],
   "source": [
    "df['Request_Closing_Time'] = df['Request_Closing_Time'].dt.seconds / 60\n",
    "df['Request_Closing_Time']"
   ]
  },
  {
   "cell_type": "markdown",
   "id": "391f39cb",
   "metadata": {},
   "source": [
    "### Order the complaint types based on the average ‘Request_Closing_Time’, grouping them for different locations."
   ]
  },
  {
   "cell_type": "code",
   "execution_count": 25,
   "id": "f3fef3e3",
   "metadata": {},
   "outputs": [],
   "source": [
    "groups = df.groupby(['Location Type','Complaint Type']) ['Request_Closing_Time'] .mean()\n",
    "groups_df = pd.DataFrame(groups.sort_values()) # Sorting in ascending order.\n",
    "groups_df['Request_Closing_Time'] = round(groups_df['Request_Closing_Time'], 2)\n",
    "groups_df.dropna(inplace=True) # Removing null values"
   ]
  },
  {
   "cell_type": "code",
   "execution_count": 26,
   "id": "29a0a8d6",
   "metadata": {},
   "outputs": [
    {
     "data": {
      "text/html": [
       "<div>\n",
       "<style scoped>\n",
       "    .dataframe tbody tr th:only-of-type {\n",
       "        vertical-align: middle;\n",
       "    }\n",
       "\n",
       "    .dataframe tbody tr th {\n",
       "        vertical-align: top;\n",
       "    }\n",
       "\n",
       "    .dataframe thead th {\n",
       "        text-align: right;\n",
       "    }\n",
       "</style>\n",
       "<table border=\"1\" class=\"dataframe\">\n",
       "  <thead>\n",
       "    <tr style=\"text-align: right;\">\n",
       "      <th></th>\n",
       "      <th></th>\n",
       "      <th>Request_Closing_Time</th>\n",
       "    </tr>\n",
       "    <tr>\n",
       "      <th>Location Type</th>\n",
       "      <th>Complaint Type</th>\n",
       "      <th></th>\n",
       "    </tr>\n",
       "  </thead>\n",
       "  <tbody>\n",
       "    <tr>\n",
       "      <th>Park</th>\n",
       "      <th>Animal in a Park</th>\n",
       "      <td>50.08</td>\n",
       "    </tr>\n",
       "    <tr>\n",
       "      <th>Subway Station</th>\n",
       "      <th>Urinating in Public</th>\n",
       "      <td>69.13</td>\n",
       "    </tr>\n",
       "    <tr>\n",
       "      <th>Park/Playground</th>\n",
       "      <th>Panhandling</th>\n",
       "      <td>73.12</td>\n",
       "    </tr>\n",
       "    <tr>\n",
       "      <th>Street/Sidewalk</th>\n",
       "      <th>Posting Advertisement</th>\n",
       "      <td>106.66</td>\n",
       "    </tr>\n",
       "    <tr>\n",
       "      <th>Store/Commercial</th>\n",
       "      <th>Illegal Fireworks</th>\n",
       "      <td>115.45</td>\n",
       "    </tr>\n",
       "    <tr>\n",
       "      <th>...</th>\n",
       "      <th>...</th>\n",
       "      <td>...</td>\n",
       "    </tr>\n",
       "    <tr>\n",
       "      <th>Residential Building/House</th>\n",
       "      <th>Panhandling</th>\n",
       "      <td>309.93</td>\n",
       "    </tr>\n",
       "    <tr>\n",
       "      <th>Store/Commercial</th>\n",
       "      <th>Graffiti</th>\n",
       "      <td>333.64</td>\n",
       "    </tr>\n",
       "    <tr>\n",
       "      <th rowspan=\"2\" valign=\"top\">Street/Sidewalk</th>\n",
       "      <th>Derelict Vehicle</th>\n",
       "      <td>335.81</td>\n",
       "    </tr>\n",
       "    <tr>\n",
       "      <th>Graffiti</th>\n",
       "      <td>434.25</td>\n",
       "    </tr>\n",
       "    <tr>\n",
       "      <th>Roadway Tunnel</th>\n",
       "      <th>Derelict Vehicle</th>\n",
       "      <td>501.85</td>\n",
       "    </tr>\n",
       "  </tbody>\n",
       "</table>\n",
       "<p>69 rows × 1 columns</p>\n",
       "</div>"
      ],
      "text/plain": [
       "                                                  Request_Closing_Time\n",
       "Location Type              Complaint Type                             \n",
       "Park                       Animal in a Park                      50.08\n",
       "Subway Station             Urinating in Public                   69.13\n",
       "Park/Playground            Panhandling                           73.12\n",
       "Street/Sidewalk            Posting Advertisement                106.66\n",
       "Store/Commercial           Illegal Fireworks                    115.45\n",
       "...                                                                ...\n",
       "Residential Building/House Panhandling                          309.93\n",
       "Store/Commercial           Graffiti                             333.64\n",
       "Street/Sidewalk            Derelict Vehicle                     335.81\n",
       "                           Graffiti                             434.25\n",
       "Roadway Tunnel             Derelict Vehicle                     501.85\n",
       "\n",
       "[69 rows x 1 columns]"
      ]
     },
     "execution_count": 26,
     "metadata": {},
     "output_type": "execute_result"
    }
   ],
   "source": [
    "groups_df"
   ]
  },
  {
   "cell_type": "markdown",
   "id": "ce921558",
   "metadata": {},
   "source": [
    "- The average request closing time is **lowest** for complaint type *'Derelict Vehicle'* for the location *'Highway'* and at same time **highest** for location *'Roadway Tunnel'*.\n",
    "- *'Graffiti'* complaints took longer time for any of the locations.\n",
    "- *'Highway', 'Street', 'Store', 'Park'* or *'Club'* seems to be top-priority location for complaints resolution."
   ]
  },
  {
   "cell_type": "markdown",
   "id": "0a7b172c",
   "metadata": {},
   "source": [
    "# Whether the average response time across complaint types is similar or not (overall) ?"
   ]
  },
  {
   "cell_type": "markdown",
   "id": "7a0ba674",
   "metadata": {},
   "source": [
    "- For this we will test the **hypothesis**.\n",
    "- The question asked is about means difference across multiple groups.\n",
    "- For this, we have to do one-way **Analysis of Variance test**."
   ]
  },
  {
   "cell_type": "markdown",
   "id": "8a985e68",
   "metadata": {},
   "source": [
    "Let's first see how means are different from each other -"
   ]
  },
  {
   "cell_type": "code",
   "execution_count": 27,
   "id": "ef3117c6",
   "metadata": {},
   "outputs": [
    {
     "data": {
      "text/html": [
       "<div>\n",
       "<style scoped>\n",
       "    .dataframe tbody tr th:only-of-type {\n",
       "        vertical-align: middle;\n",
       "    }\n",
       "\n",
       "    .dataframe tbody tr th {\n",
       "        vertical-align: top;\n",
       "    }\n",
       "\n",
       "    .dataframe thead th {\n",
       "        text-align: right;\n",
       "    }\n",
       "</style>\n",
       "<table border=\"1\" class=\"dataframe\">\n",
       "  <thead>\n",
       "    <tr style=\"text-align: right;\">\n",
       "      <th></th>\n",
       "      <th>Complaint Type</th>\n",
       "      <th>Request_Closing_Time</th>\n",
       "    </tr>\n",
       "  </thead>\n",
       "  <tbody>\n",
       "    <tr>\n",
       "      <th>0</th>\n",
       "      <td>Noise - Street/Sidewalk</td>\n",
       "      <td>55.250000</td>\n",
       "    </tr>\n",
       "    <tr>\n",
       "      <th>1</th>\n",
       "      <td>Blocked Driveway</td>\n",
       "      <td>86.266667</td>\n",
       "    </tr>\n",
       "    <tr>\n",
       "      <th>2</th>\n",
       "      <td>Blocked Driveway</td>\n",
       "      <td>291.516667</td>\n",
       "    </tr>\n",
       "    <tr>\n",
       "      <th>3</th>\n",
       "      <td>Illegal Parking</td>\n",
       "      <td>465.233333</td>\n",
       "    </tr>\n",
       "    <tr>\n",
       "      <th>4</th>\n",
       "      <td>Illegal Parking</td>\n",
       "      <td>207.033333</td>\n",
       "    </tr>\n",
       "  </tbody>\n",
       "</table>\n",
       "</div>"
      ],
      "text/plain": [
       "            Complaint Type  Request_Closing_Time\n",
       "0  Noise - Street/Sidewalk             55.250000\n",
       "1         Blocked Driveway             86.266667\n",
       "2         Blocked Driveway            291.516667\n",
       "3          Illegal Parking            465.233333\n",
       "4          Illegal Parking            207.033333"
      ]
     },
     "execution_count": 27,
     "metadata": {},
     "output_type": "execute_result"
    }
   ],
   "source": [
    "# Creating a subset of data excluding missing value record.\n",
    "anova_data = df[['Complaint Type','Request_Closing_Time']].dropna() \n",
    "anova_data.head()"
   ]
  },
  {
   "cell_type": "code",
   "execution_count": 28,
   "id": "fea3ddfd",
   "metadata": {},
   "outputs": [
    {
     "data": {
      "text/html": [
       "<div>\n",
       "<style scoped>\n",
       "    .dataframe tbody tr th:only-of-type {\n",
       "        vertical-align: middle;\n",
       "    }\n",
       "\n",
       "    .dataframe tbody tr th {\n",
       "        vertical-align: top;\n",
       "    }\n",
       "\n",
       "    .dataframe thead th {\n",
       "        text-align: right;\n",
       "    }\n",
       "</style>\n",
       "<table border=\"1\" class=\"dataframe\">\n",
       "  <thead>\n",
       "    <tr style=\"text-align: right;\">\n",
       "      <th></th>\n",
       "      <th>Request_Closing_Time</th>\n",
       "    </tr>\n",
       "    <tr>\n",
       "      <th>Complaint Type</th>\n",
       "      <th></th>\n",
       "    </tr>\n",
       "  </thead>\n",
       "  <tbody>\n",
       "    <tr>\n",
       "      <th>Agency Issues</th>\n",
       "      <td>315.619444</td>\n",
       "    </tr>\n",
       "    <tr>\n",
       "      <th>Animal Abuse</th>\n",
       "      <td>277.573208</td>\n",
       "    </tr>\n",
       "    <tr>\n",
       "      <th>Animal in a Park</th>\n",
       "      <td>50.083333</td>\n",
       "    </tr>\n",
       "    <tr>\n",
       "      <th>Bike/Roller/Skate Chronic</th>\n",
       "      <td>212.402830</td>\n",
       "    </tr>\n",
       "    <tr>\n",
       "      <th>Blocked Driveway</th>\n",
       "      <td>263.082093</td>\n",
       "    </tr>\n",
       "    <tr>\n",
       "      <th>Derelict Vehicle</th>\n",
       "      <td>335.330298</td>\n",
       "    </tr>\n",
       "    <tr>\n",
       "      <th>Disorderly Youth</th>\n",
       "      <td>208.480070</td>\n",
       "    </tr>\n",
       "    <tr>\n",
       "      <th>Drinking</th>\n",
       "      <td>217.027621</td>\n",
       "    </tr>\n",
       "    <tr>\n",
       "      <th>Graffiti</th>\n",
       "      <td>339.871534</td>\n",
       "    </tr>\n",
       "    <tr>\n",
       "      <th>Homeless Encampment</th>\n",
       "      <td>245.955948</td>\n",
       "    </tr>\n",
       "    <tr>\n",
       "      <th>Illegal Fireworks</th>\n",
       "      <td>157.096925</td>\n",
       "    </tr>\n",
       "    <tr>\n",
       "      <th>Illegal Parking</th>\n",
       "      <td>248.584628</td>\n",
       "    </tr>\n",
       "    <tr>\n",
       "      <th>Noise - Commercial</th>\n",
       "      <td>179.473576</td>\n",
       "    </tr>\n",
       "    <tr>\n",
       "      <th>Noise - House of Worship</th>\n",
       "      <td>177.647417</td>\n",
       "    </tr>\n",
       "    <tr>\n",
       "      <th>Noise - Park</th>\n",
       "      <td>195.335148</td>\n",
       "    </tr>\n",
       "    <tr>\n",
       "      <th>Noise - Street/Sidewalk</th>\n",
       "      <td>193.294691</td>\n",
       "    </tr>\n",
       "    <tr>\n",
       "      <th>Noise - Vehicle</th>\n",
       "      <td>202.573797</td>\n",
       "    </tr>\n",
       "    <tr>\n",
       "      <th>Panhandling</th>\n",
       "      <td>224.595574</td>\n",
       "    </tr>\n",
       "    <tr>\n",
       "      <th>Posting Advertisement</th>\n",
       "      <td>116.325977</td>\n",
       "    </tr>\n",
       "    <tr>\n",
       "      <th>Squeegee</th>\n",
       "      <td>242.737500</td>\n",
       "    </tr>\n",
       "    <tr>\n",
       "      <th>Traffic</th>\n",
       "      <td>191.867486</td>\n",
       "    </tr>\n",
       "    <tr>\n",
       "      <th>Urinating in Public</th>\n",
       "      <td>205.437697</td>\n",
       "    </tr>\n",
       "    <tr>\n",
       "      <th>Vending</th>\n",
       "      <td>228.313382</td>\n",
       "    </tr>\n",
       "  </tbody>\n",
       "</table>\n",
       "</div>"
      ],
      "text/plain": [
       "                           Request_Closing_Time\n",
       "Complaint Type                                 \n",
       "Agency Issues                        315.619444\n",
       "Animal Abuse                         277.573208\n",
       "Animal in a Park                      50.083333\n",
       "Bike/Roller/Skate Chronic            212.402830\n",
       "Blocked Driveway                     263.082093\n",
       "Derelict Vehicle                     335.330298\n",
       "Disorderly Youth                     208.480070\n",
       "Drinking                             217.027621\n",
       "Graffiti                             339.871534\n",
       "Homeless Encampment                  245.955948\n",
       "Illegal Fireworks                    157.096925\n",
       "Illegal Parking                      248.584628\n",
       "Noise - Commercial                   179.473576\n",
       "Noise - House of Worship             177.647417\n",
       "Noise - Park                         195.335148\n",
       "Noise - Street/Sidewalk              193.294691\n",
       "Noise - Vehicle                      202.573797\n",
       "Panhandling                          224.595574\n",
       "Posting Advertisement                116.325977\n",
       "Squeegee                             242.737500\n",
       "Traffic                              191.867486\n",
       "Urinating in Public                  205.437697\n",
       "Vending                              228.313382"
      ]
     },
     "execution_count": 28,
     "metadata": {},
     "output_type": "execute_result"
    }
   ],
   "source": [
    "# Checking mean for each Complaint Type.\n",
    "anova_data.groupby('Complaint Type').mean()"
   ]
  },
  {
   "cell_type": "code",
   "execution_count": 29,
   "id": "bea053c6",
   "metadata": {},
   "outputs": [
    {
     "data": {
      "image/png": "[encoded data removed]",
      "text/plain": [
       "<Figure size 1080x576 with 1 Axes>"
      ]
     },
     "metadata": {},
     "output_type": "display_data"
    }
   ],
   "source": [
    "# Let's visualize it\n",
    "anova_data.groupby('Complaint Type').mean().plot(kind='barh',\n",
    "                                                figsize=(15,8))\n",
    "plt.title('Average Response Time for Complaints', fontsize=15)\n",
    "plt.show()"
   ]
  },
  {
   "cell_type": "markdown",
   "id": "9c5c9c78",
   "metadata": {},
   "source": [
    "- From above it seems average response time are not similar."
   ]
  },
  {
   "cell_type": "markdown",
   "id": "637cf9a7",
   "metadata": {},
   "source": [
    "Let's do a statistical test to present the evidence -"
   ]
  },
  {
   "cell_type": "markdown",
   "id": "1580b5b4",
   "metadata": {},
   "source": [
    "- **$H_0$ (Null Hypothesis)** : The average response time across complaint types are similar.\n",
    "- **$H_1$(Alternate Hypothesis)** : The average response time across complaint types are not similar.\n",
    "- The test statistcs is $F_{statistics}$\n",
    "- Significance level  **($\\alpha$) =0.05**"
   ]
  },
  {
   "cell_type": "markdown",
   "id": "644ac4a8",
   "metadata": {},
   "source": [
    "# $F_{statistics} = \\frac{(SSB / dof_{ssb})}{(SSW/dof_{ssw})}$"
   ]
  },
  {
   "cell_type": "code",
   "execution_count": 30,
   "id": "073bfcb8",
   "metadata": {},
   "outputs": [
    {
     "name": "stdout",
     "output_type": "stream",
     "text": [
      "Blocked Driveway             76810\n",
      "Illegal Parking              74532\n",
      "Noise - Street/Sidewalk      48076\n",
      "Noise - Commercial           35247\n",
      "Derelict Vehicle             17588\n",
      "Noise - Vehicle              17033\n",
      "Animal Abuse                  7768\n",
      "Traffic                       4496\n",
      "Homeless Encampment           4416\n",
      "Noise - Park                  4022\n",
      "Vending                       3795\n",
      "Drinking                      1275\n",
      "Noise - House of Worship       929\n",
      "Posting Advertisement          648\n",
      "Urinating in Public            592\n",
      "Bike/Roller/Skate Chronic      424\n",
      "Panhandling                    305\n",
      "Disorderly Youth               286\n",
      "Illegal Fireworks              168\n",
      "Graffiti                       113\n",
      "Agency Issues                    6\n",
      "Squeegee                         4\n",
      "Animal in a Park                 1\n",
      "Name: Complaint Type, dtype: int64\n",
      "\n",
      "Number Of Groups =  23\n"
     ]
    }
   ],
   "source": [
    "# Checking the sample sizes.\n",
    "print(anova_data['Complaint Type'].value_counts())\n",
    "print('\\nNumber Of Groups = ',\n",
    "      anova_data['Complaint Type'].nunique())"
   ]
  },
  {
   "cell_type": "markdown",
   "id": "8e5ae6e7",
   "metadata": {},
   "source": [
    "- We can see for some of them, sample sizes(n) are very **small**.\n",
    "- We have 23 groups(k) ,thus we have to remove wherever $n-k < 0$.\n",
    "- We will remove *Agency Issues, Squeegee* and *Animal in a Park*."
   ]
  },
  {
   "cell_type": "code",
   "execution_count": 31,
   "id": "9ad3c031",
   "metadata": {},
   "outputs": [
    {
     "data": {
      "text/plain": [
       "array(['Noise - Street/Sidewalk', 'Blocked Driveway', 'Illegal Parking',\n",
       "       'Derelict Vehicle', 'Noise - Commercial',\n",
       "       'Noise - House of Worship', 'Posting Advertisement',\n",
       "       'Noise - Vehicle', 'Animal Abuse', 'Vending', 'Traffic',\n",
       "       'Drinking', 'Bike/Roller/Skate Chronic', 'Panhandling',\n",
       "       'Noise - Park', 'Homeless Encampment', 'Urinating in Public',\n",
       "       'Graffiti', 'Disorderly Youth', 'Illegal Fireworks'], dtype=object)"
      ]
     },
     "execution_count": 31,
     "metadata": {},
     "output_type": "execute_result"
    }
   ],
   "source": [
    "cond_1 = anova_data['Complaint Type'] != 'Agency Issues'\n",
    "cond_2 = anova_data['Complaint Type'] != 'Squeegee'\n",
    "cond_3 = anova_data['Complaint Type'] != 'Animal in a Park'\n",
    "filter_anova_data = anova_data[cond_1 & cond_2 & cond_3]\n",
    "filter_anova_data['Complaint Type'].unique()"
   ]
  },
  {
   "cell_type": "markdown",
   "id": "653b0c4d",
   "metadata": {},
   "source": [
    "- We can see the recording belonging to group of small sample sizes has been dropped."
   ]
  },
  {
   "cell_type": "markdown",
   "id": "4af789f8",
   "metadata": {},
   "source": [
    "Let's calculate \n",
    "- SST = sum of squares total\n",
    "- SSW = sum of squares within\n",
    "- SSB = sum of squares between"
   ]
  },
  {
   "cell_type": "markdown",
   "id": "70fead86",
   "metadata": {},
   "source": [
    "#### SST"
   ]
  },
  {
   "cell_type": "code",
   "execution_count": 32,
   "id": "fc1223fd",
   "metadata": {},
   "outputs": [
    {
     "name": "stdout",
     "output_type": "stream",
     "text": [
      "Mean response time for all requests (in min) -\n",
      "235.7627208512125\n"
     ]
    }
   ],
   "source": [
    "mean_response_time = filter_anova_data['Request_Closing_Time'].mean()\n",
    "print(\"Mean response time for all requests (in min) -\")\n",
    "print(mean_response_time)"
   ]
  },
  {
   "cell_type": "code",
   "execution_count": 33,
   "id": "3a31092c",
   "metadata": {},
   "outputs": [
    {
     "data": {
      "text/plain": [
       "16015178971.036877"
      ]
     },
     "execution_count": 33,
     "metadata": {},
     "output_type": "execute_result"
    }
   ],
   "source": [
    "SST = np.sum(np.square(filter_anova_data['Request_Closing_Time']\n",
    "                      - mean_response_time))\n",
    "SST"
   ]
  },
  {
   "cell_type": "markdown",
   "id": "fbf721b8",
   "metadata": {},
   "source": [
    "#### SSW"
   ]
  },
  {
   "cell_type": "code",
   "execution_count": 34,
   "id": "6a36c141",
   "metadata": {},
   "outputs": [],
   "source": [
    "# Creating a helping function.\n",
    "def sum_of_squares(group):\n",
    "    return np.sum(np.square(group-group.mean()))"
   ]
  },
  {
   "cell_type": "code",
   "execution_count": 35,
   "id": "1d55d94f",
   "metadata": {},
   "outputs": [
    {
     "name": "stdout",
     "output_type": "stream",
     "text": [
      "SSW =  15508483830.93968\n",
      "degrees of freedom = 298503\n"
     ]
    }
   ],
   "source": [
    "ss_grp =[]\n",
    "dof_grp =[]\n",
    "no_of_groups = list(filter_anova_data['Complaint Type'].unique())\n",
    "grp_data = filter_anova_data.groupby('Complaint Type')\n",
    "\n",
    "for i in no_of_groups:\n",
    "    grp_values = grp_data.get_group(i)['Request_Closing_Time']\n",
    "    SSW_grp = sum_of_squares(grp_values) # Using the function.\n",
    "    ss_grp.append(SSW_grp)\n",
    "    dof_grp.append(len(grp_values)-1)\n",
    "    \n",
    "SSW = sum(ss_grp)\n",
    "dof_ssw = sum(dof_grp)\n",
    "print('SSW = ',SSW)\n",
    "print('degrees of freedom =',dof_ssw)"
   ]
  },
  {
   "cell_type": "markdown",
   "id": "9002b8c5",
   "metadata": {},
   "source": [
    "#### SSB"
   ]
  },
  {
   "cell_type": "code",
   "execution_count": 36,
   "id": "5cadeacc",
   "metadata": {},
   "outputs": [
    {
     "data": {
      "text/plain": [
       "506695140.0971966"
      ]
     },
     "execution_count": 36,
     "metadata": {},
     "output_type": "execute_result"
    }
   ],
   "source": [
    "SSB = SST-SSW\n",
    "SSB"
   ]
  },
  {
   "cell_type": "code",
   "execution_count": 37,
   "id": "9bbab26e",
   "metadata": {},
   "outputs": [
    {
     "data": {
      "text/plain": [
       "19"
      ]
     },
     "execution_count": 37,
     "metadata": {},
     "output_type": "execute_result"
    }
   ],
   "source": [
    "dof_ssb = len(no_of_groups)-1\n",
    "dof_ssb"
   ]
  },
  {
   "cell_type": "markdown",
   "id": "a5105bec",
   "metadata": {},
   "source": [
    "#### F- statistics"
   ]
  },
  {
   "cell_type": "code",
   "execution_count": 38,
   "id": "bfcc7e37",
   "metadata": {},
   "outputs": [
    {
     "data": {
      "text/plain": [
       "513.3014564063357"
      ]
     },
     "execution_count": 38,
     "metadata": {},
     "output_type": "execute_result"
    }
   ],
   "source": [
    "f = (SSB/dof_ssb) / (SSW/dof_ssw)\n",
    "f"
   ]
  },
  {
   "cell_type": "markdown",
   "id": "56fc5a70",
   "metadata": {},
   "source": [
    "Let's calculate the p-value of f-statistics -"
   ]
  },
  {
   "cell_type": "code",
   "execution_count": 39,
   "id": "cec030ec",
   "metadata": {},
   "outputs": [
    {
     "data": {
      "text/plain": [
       "1.1102230246251565e-16"
      ]
     },
     "execution_count": 39,
     "metadata": {},
     "output_type": "execute_result"
    }
   ],
   "source": [
    "from scipy import stats\n",
    "f_dist = stats.f\n",
    "cdf = f_dist.cdf(f,dof_ssb,dof_ssw)\n",
    "p_val = 1 - cdf\n",
    "p_val"
   ]
  },
  {
   "cell_type": "code",
   "execution_count": 40,
   "id": "9c60ad46",
   "metadata": {},
   "outputs": [
    {
     "data": {
      "text/plain": [
       "True"
      ]
     },
     "execution_count": 40,
     "metadata": {},
     "output_type": "execute_result"
    }
   ],
   "source": [
    "p_val < 0.05"
   ]
  },
  {
   "cell_type": "markdown",
   "id": "78ed0dbc",
   "metadata": {},
   "source": [
    "- The F statistic falls under critical region.\n",
    "- The p_value < $\\alpha$.\n",
    "- We reject the Null Hypothesis."
   ]
  },
  {
   "cell_type": "markdown",
   "id": "a736d7e5",
   "metadata": {},
   "source": [
    "### Conclusion : The average response time across complaint types are not similar."
   ]
  },
  {
   "cell_type": "markdown",
   "id": "35ead776",
   "metadata": {},
   "source": [
    "--------------------------------------------------------------------------------------------------------------------------------"
   ]
  },
  {
   "cell_type": "markdown",
   "id": "e7da801e",
   "metadata": {},
   "source": [
    "# Are the type of complaint or service requested and location related?"
   ]
  },
  {
   "cell_type": "markdown",
   "id": "9a19b648",
   "metadata": {},
   "source": [
    "- The question asked is about assosciation of two categorical data.\n",
    "- We have to do **chi-squared test**."
   ]
  },
  {
   "cell_type": "markdown",
   "id": "a0931023",
   "metadata": {},
   "source": [
    "Let's have a look on required data -"
   ]
  },
  {
   "cell_type": "code",
   "execution_count": 41,
   "id": "570dd07a",
   "metadata": {},
   "outputs": [
    {
     "data": {
      "text/html": [
       "<div>\n",
       "<style scoped>\n",
       "    .dataframe tbody tr th:only-of-type {\n",
       "        vertical-align: middle;\n",
       "    }\n",
       "\n",
       "    .dataframe tbody tr th {\n",
       "        vertical-align: top;\n",
       "    }\n",
       "\n",
       "    .dataframe thead th {\n",
       "        text-align: right;\n",
       "    }\n",
       "</style>\n",
       "<table border=\"1\" class=\"dataframe\">\n",
       "  <thead>\n",
       "    <tr style=\"text-align: right;\">\n",
       "      <th></th>\n",
       "      <th>Unique Key</th>\n",
       "      <th>Complaint Type</th>\n",
       "      <th>Location Type</th>\n",
       "    </tr>\n",
       "  </thead>\n",
       "  <tbody>\n",
       "    <tr>\n",
       "      <th>0</th>\n",
       "      <td>32310363</td>\n",
       "      <td>Noise - Street/Sidewalk</td>\n",
       "      <td>Street/Sidewalk</td>\n",
       "    </tr>\n",
       "    <tr>\n",
       "      <th>1</th>\n",
       "      <td>32309934</td>\n",
       "      <td>Blocked Driveway</td>\n",
       "      <td>Street/Sidewalk</td>\n",
       "    </tr>\n",
       "    <tr>\n",
       "      <th>2</th>\n",
       "      <td>32309159</td>\n",
       "      <td>Blocked Driveway</td>\n",
       "      <td>Street/Sidewalk</td>\n",
       "    </tr>\n",
       "    <tr>\n",
       "      <th>3</th>\n",
       "      <td>32305098</td>\n",
       "      <td>Illegal Parking</td>\n",
       "      <td>Street/Sidewalk</td>\n",
       "    </tr>\n",
       "    <tr>\n",
       "      <th>4</th>\n",
       "      <td>32306529</td>\n",
       "      <td>Illegal Parking</td>\n",
       "      <td>Street/Sidewalk</td>\n",
       "    </tr>\n",
       "  </tbody>\n",
       "</table>\n",
       "</div>"
      ],
      "text/plain": [
       "   Unique Key           Complaint Type    Location Type\n",
       "0    32310363  Noise - Street/Sidewalk  Street/Sidewalk\n",
       "1    32309934         Blocked Driveway  Street/Sidewalk\n",
       "2    32309159         Blocked Driveway  Street/Sidewalk\n",
       "3    32305098          Illegal Parking  Street/Sidewalk\n",
       "4    32306529          Illegal Parking  Street/Sidewalk"
      ]
     },
     "execution_count": 41,
     "metadata": {},
     "output_type": "execute_result"
    }
   ],
   "source": [
    "chi_sq_data =df[['Unique Key','Complaint Type','Location Type']]\n",
    "chi_sq_data.head()"
   ]
  },
  {
   "cell_type": "code",
   "execution_count": 42,
   "id": "558e7453",
   "metadata": {},
   "outputs": [
    {
     "data": {
      "image/png": "[encoded data removed]",
      "text/plain": [
       "<Figure size 720x432 with 1 Axes>"
      ]
     },
     "metadata": {},
     "output_type": "display_data"
    }
   ],
   "source": [
    "# Visualizing the frequency of grouped data.\n",
    "grp_chi_sq_data = chi_sq_data.groupby(['Location Type','Complaint Type']).count()\n",
    "fig,ax = plt.subplots(figsize=(10,6))\n",
    "fig = grp_chi_sq_data.unstack().plot(kind='bar',\n",
    "                                     stacked=True,\n",
    "                                     ax=ax)\n",
    "fig.legend(bbox_to_anchor=[1,1])\n",
    "plt.yscale('log')"
   ]
  },
  {
   "cell_type": "markdown",
   "id": "af59a911",
   "metadata": {},
   "source": [
    "- From above, we can't say for sure that complaint type and location type are related or not.\n"
   ]
  },
  {
   "cell_type": "markdown",
   "id": "5a7e7568",
   "metadata": {},
   "source": [
    "Let's test above hypothesis -"
   ]
  },
  {
   "cell_type": "markdown",
   "id": "75b7e016",
   "metadata": {},
   "source": [
    "- **$H_0$ (Null Hypothesis)** : The location type and complaint type are not related.\n",
    "- **$H_1$(Alternate Hypothesis)** : The location type and complaint type are related..\n",
    "- The test statistcs is $x^2_{chi-square}$\n",
    "- Significance level  **($\\alpha$) =0.05**"
   ]
  },
  {
   "cell_type": "code",
   "execution_count": 43,
   "id": "e3f0db68",
   "metadata": {},
   "outputs": [],
   "source": [
    "chi_sq_table = pd.crosstab(df['Location Type'],df['Complaint Type'],\n",
    "                             margins=True,\n",
    "                             margins_name='Total')"
   ]
  },
  {
   "cell_type": "code",
   "execution_count": 44,
   "id": "6e30060a",
   "metadata": {},
   "outputs": [
    {
     "data": {
      "text/html": [
       "<div>\n",
       "<style scoped>\n",
       "    .dataframe tbody tr th:only-of-type {\n",
       "        vertical-align: middle;\n",
       "    }\n",
       "\n",
       "    .dataframe tbody tr th {\n",
       "        vertical-align: top;\n",
       "    }\n",
       "\n",
       "    .dataframe thead th {\n",
       "        text-align: right;\n",
       "    }\n",
       "</style>\n",
       "<table border=\"1\" class=\"dataframe\">\n",
       "  <thead>\n",
       "    <tr style=\"text-align: right;\">\n",
       "      <th>Complaint Type</th>\n",
       "      <th>Animal Abuse</th>\n",
       "      <th>Animal in a Park</th>\n",
       "      <th>Bike/Roller/Skate Chronic</th>\n",
       "      <th>Blocked Driveway</th>\n",
       "      <th>Derelict Vehicle</th>\n",
       "      <th>Disorderly Youth</th>\n",
       "      <th>Drinking</th>\n",
       "      <th>Ferry Complaint</th>\n",
       "      <th>Graffiti</th>\n",
       "      <th>Homeless Encampment</th>\n",
       "      <th>...</th>\n",
       "      <th>Noise - Park</th>\n",
       "      <th>Noise - Street/Sidewalk</th>\n",
       "      <th>Noise - Vehicle</th>\n",
       "      <th>Panhandling</th>\n",
       "      <th>Posting Advertisement</th>\n",
       "      <th>Squeegee</th>\n",
       "      <th>Traffic</th>\n",
       "      <th>Urinating in Public</th>\n",
       "      <th>Vending</th>\n",
       "      <th>Total</th>\n",
       "    </tr>\n",
       "    <tr>\n",
       "      <th>Location Type</th>\n",
       "      <th></th>\n",
       "      <th></th>\n",
       "      <th></th>\n",
       "      <th></th>\n",
       "      <th></th>\n",
       "      <th></th>\n",
       "      <th></th>\n",
       "      <th></th>\n",
       "      <th></th>\n",
       "      <th></th>\n",
       "      <th></th>\n",
       "      <th></th>\n",
       "      <th></th>\n",
       "      <th></th>\n",
       "      <th></th>\n",
       "      <th></th>\n",
       "      <th></th>\n",
       "      <th></th>\n",
       "      <th></th>\n",
       "      <th></th>\n",
       "      <th></th>\n",
       "    </tr>\n",
       "  </thead>\n",
       "  <tbody>\n",
       "    <tr>\n",
       "      <th>Bridge</th>\n",
       "      <td>0</td>\n",
       "      <td>0</td>\n",
       "      <td>0</td>\n",
       "      <td>0</td>\n",
       "      <td>0</td>\n",
       "      <td>0</td>\n",
       "      <td>0</td>\n",
       "      <td>0</td>\n",
       "      <td>0</td>\n",
       "      <td>2</td>\n",
       "      <td>...</td>\n",
       "      <td>0</td>\n",
       "      <td>0</td>\n",
       "      <td>0</td>\n",
       "      <td>0</td>\n",
       "      <td>0</td>\n",
       "      <td>0</td>\n",
       "      <td>0</td>\n",
       "      <td>0</td>\n",
       "      <td>0</td>\n",
       "      <td>2</td>\n",
       "    </tr>\n",
       "    <tr>\n",
       "      <th>Club/Bar/Restaurant</th>\n",
       "      <td>0</td>\n",
       "      <td>0</td>\n",
       "      <td>0</td>\n",
       "      <td>0</td>\n",
       "      <td>0</td>\n",
       "      <td>0</td>\n",
       "      <td>366</td>\n",
       "      <td>0</td>\n",
       "      <td>0</td>\n",
       "      <td>0</td>\n",
       "      <td>...</td>\n",
       "      <td>0</td>\n",
       "      <td>0</td>\n",
       "      <td>0</td>\n",
       "      <td>0</td>\n",
       "      <td>0</td>\n",
       "      <td>0</td>\n",
       "      <td>0</td>\n",
       "      <td>21</td>\n",
       "      <td>0</td>\n",
       "      <td>17360</td>\n",
       "    </tr>\n",
       "    <tr>\n",
       "      <th>Commercial</th>\n",
       "      <td>62</td>\n",
       "      <td>0</td>\n",
       "      <td>0</td>\n",
       "      <td>0</td>\n",
       "      <td>0</td>\n",
       "      <td>0</td>\n",
       "      <td>0</td>\n",
       "      <td>0</td>\n",
       "      <td>0</td>\n",
       "      <td>0</td>\n",
       "      <td>...</td>\n",
       "      <td>0</td>\n",
       "      <td>0</td>\n",
       "      <td>0</td>\n",
       "      <td>0</td>\n",
       "      <td>0</td>\n",
       "      <td>0</td>\n",
       "      <td>0</td>\n",
       "      <td>0</td>\n",
       "      <td>0</td>\n",
       "      <td>62</td>\n",
       "    </tr>\n",
       "    <tr>\n",
       "      <th>Ferry</th>\n",
       "      <td>0</td>\n",
       "      <td>0</td>\n",
       "      <td>0</td>\n",
       "      <td>0</td>\n",
       "      <td>0</td>\n",
       "      <td>0</td>\n",
       "      <td>0</td>\n",
       "      <td>1</td>\n",
       "      <td>0</td>\n",
       "      <td>0</td>\n",
       "      <td>...</td>\n",
       "      <td>0</td>\n",
       "      <td>0</td>\n",
       "      <td>0</td>\n",
       "      <td>0</td>\n",
       "      <td>0</td>\n",
       "      <td>0</td>\n",
       "      <td>0</td>\n",
       "      <td>0</td>\n",
       "      <td>0</td>\n",
       "      <td>1</td>\n",
       "    </tr>\n",
       "    <tr>\n",
       "      <th>Highway</th>\n",
       "      <td>0</td>\n",
       "      <td>0</td>\n",
       "      <td>0</td>\n",
       "      <td>0</td>\n",
       "      <td>14</td>\n",
       "      <td>0</td>\n",
       "      <td>0</td>\n",
       "      <td>0</td>\n",
       "      <td>0</td>\n",
       "      <td>15</td>\n",
       "      <td>...</td>\n",
       "      <td>0</td>\n",
       "      <td>0</td>\n",
       "      <td>0</td>\n",
       "      <td>0</td>\n",
       "      <td>0</td>\n",
       "      <td>0</td>\n",
       "      <td>186</td>\n",
       "      <td>0</td>\n",
       "      <td>0</td>\n",
       "      <td>215</td>\n",
       "    </tr>\n",
       "    <tr>\n",
       "      <th>House and Store</th>\n",
       "      <td>93</td>\n",
       "      <td>0</td>\n",
       "      <td>0</td>\n",
       "      <td>0</td>\n",
       "      <td>0</td>\n",
       "      <td>0</td>\n",
       "      <td>0</td>\n",
       "      <td>0</td>\n",
       "      <td>0</td>\n",
       "      <td>0</td>\n",
       "      <td>...</td>\n",
       "      <td>0</td>\n",
       "      <td>0</td>\n",
       "      <td>0</td>\n",
       "      <td>0</td>\n",
       "      <td>0</td>\n",
       "      <td>0</td>\n",
       "      <td>0</td>\n",
       "      <td>0</td>\n",
       "      <td>0</td>\n",
       "      <td>93</td>\n",
       "    </tr>\n",
       "    <tr>\n",
       "      <th>House of Worship</th>\n",
       "      <td>0</td>\n",
       "      <td>0</td>\n",
       "      <td>0</td>\n",
       "      <td>0</td>\n",
       "      <td>0</td>\n",
       "      <td>0</td>\n",
       "      <td>0</td>\n",
       "      <td>0</td>\n",
       "      <td>0</td>\n",
       "      <td>0</td>\n",
       "      <td>...</td>\n",
       "      <td>0</td>\n",
       "      <td>0</td>\n",
       "      <td>0</td>\n",
       "      <td>0</td>\n",
       "      <td>0</td>\n",
       "      <td>0</td>\n",
       "      <td>0</td>\n",
       "      <td>0</td>\n",
       "      <td>0</td>\n",
       "      <td>929</td>\n",
       "    </tr>\n",
       "    <tr>\n",
       "      <th>Park</th>\n",
       "      <td>0</td>\n",
       "      <td>1</td>\n",
       "      <td>0</td>\n",
       "      <td>0</td>\n",
       "      <td>0</td>\n",
       "      <td>0</td>\n",
       "      <td>0</td>\n",
       "      <td>0</td>\n",
       "      <td>0</td>\n",
       "      <td>0</td>\n",
       "      <td>...</td>\n",
       "      <td>0</td>\n",
       "      <td>0</td>\n",
       "      <td>0</td>\n",
       "      <td>0</td>\n",
       "      <td>0</td>\n",
       "      <td>0</td>\n",
       "      <td>0</td>\n",
       "      <td>0</td>\n",
       "      <td>0</td>\n",
       "      <td>1</td>\n",
       "    </tr>\n",
       "    <tr>\n",
       "      <th>Park/Playground</th>\n",
       "      <td>123</td>\n",
       "      <td>0</td>\n",
       "      <td>0</td>\n",
       "      <td>0</td>\n",
       "      <td>0</td>\n",
       "      <td>0</td>\n",
       "      <td>98</td>\n",
       "      <td>0</td>\n",
       "      <td>0</td>\n",
       "      <td>353</td>\n",
       "      <td>...</td>\n",
       "      <td>4041</td>\n",
       "      <td>0</td>\n",
       "      <td>0</td>\n",
       "      <td>6</td>\n",
       "      <td>0</td>\n",
       "      <td>0</td>\n",
       "      <td>0</td>\n",
       "      <td>38</td>\n",
       "      <td>106</td>\n",
       "      <td>4773</td>\n",
       "    </tr>\n",
       "    <tr>\n",
       "      <th>Parking Lot</th>\n",
       "      <td>110</td>\n",
       "      <td>0</td>\n",
       "      <td>0</td>\n",
       "      <td>0</td>\n",
       "      <td>0</td>\n",
       "      <td>0</td>\n",
       "      <td>0</td>\n",
       "      <td>0</td>\n",
       "      <td>0</td>\n",
       "      <td>0</td>\n",
       "      <td>...</td>\n",
       "      <td>0</td>\n",
       "      <td>0</td>\n",
       "      <td>0</td>\n",
       "      <td>0</td>\n",
       "      <td>7</td>\n",
       "      <td>0</td>\n",
       "      <td>0</td>\n",
       "      <td>0</td>\n",
       "      <td>0</td>\n",
       "      <td>117</td>\n",
       "    </tr>\n",
       "    <tr>\n",
       "      <th>Residential Building</th>\n",
       "      <td>227</td>\n",
       "      <td>0</td>\n",
       "      <td>0</td>\n",
       "      <td>0</td>\n",
       "      <td>0</td>\n",
       "      <td>0</td>\n",
       "      <td>0</td>\n",
       "      <td>0</td>\n",
       "      <td>0</td>\n",
       "      <td>0</td>\n",
       "      <td>...</td>\n",
       "      <td>0</td>\n",
       "      <td>0</td>\n",
       "      <td>0</td>\n",
       "      <td>0</td>\n",
       "      <td>0</td>\n",
       "      <td>0</td>\n",
       "      <td>0</td>\n",
       "      <td>0</td>\n",
       "      <td>0</td>\n",
       "      <td>227</td>\n",
       "    </tr>\n",
       "    <tr>\n",
       "      <th>Residential Building/House</th>\n",
       "      <td>5085</td>\n",
       "      <td>0</td>\n",
       "      <td>26</td>\n",
       "      <td>0</td>\n",
       "      <td>0</td>\n",
       "      <td>77</td>\n",
       "      <td>291</td>\n",
       "      <td>0</td>\n",
       "      <td>56</td>\n",
       "      <td>983</td>\n",
       "      <td>...</td>\n",
       "      <td>0</td>\n",
       "      <td>0</td>\n",
       "      <td>0</td>\n",
       "      <td>16</td>\n",
       "      <td>54</td>\n",
       "      <td>0</td>\n",
       "      <td>0</td>\n",
       "      <td>138</td>\n",
       "      <td>201</td>\n",
       "      <td>6960</td>\n",
       "    </tr>\n",
       "    <tr>\n",
       "      <th>Roadway Tunnel</th>\n",
       "      <td>0</td>\n",
       "      <td>0</td>\n",
       "      <td>0</td>\n",
       "      <td>0</td>\n",
       "      <td>5</td>\n",
       "      <td>0</td>\n",
       "      <td>0</td>\n",
       "      <td>0</td>\n",
       "      <td>0</td>\n",
       "      <td>1</td>\n",
       "      <td>...</td>\n",
       "      <td>0</td>\n",
       "      <td>0</td>\n",
       "      <td>0</td>\n",
       "      <td>0</td>\n",
       "      <td>0</td>\n",
       "      <td>0</td>\n",
       "      <td>29</td>\n",
       "      <td>0</td>\n",
       "      <td>0</td>\n",
       "      <td>35</td>\n",
       "    </tr>\n",
       "    <tr>\n",
       "      <th>Store/Commercial</th>\n",
       "      <td>522</td>\n",
       "      <td>0</td>\n",
       "      <td>53</td>\n",
       "      <td>0</td>\n",
       "      <td>0</td>\n",
       "      <td>8</td>\n",
       "      <td>90</td>\n",
       "      <td>0</td>\n",
       "      <td>32</td>\n",
       "      <td>512</td>\n",
       "      <td>...</td>\n",
       "      <td>0</td>\n",
       "      <td>0</td>\n",
       "      <td>0</td>\n",
       "      <td>60</td>\n",
       "      <td>6</td>\n",
       "      <td>0</td>\n",
       "      <td>0</td>\n",
       "      <td>66</td>\n",
       "      <td>432</td>\n",
       "      <td>20381</td>\n",
       "    </tr>\n",
       "    <tr>\n",
       "      <th>Street/Sidewalk</th>\n",
       "      <td>1531</td>\n",
       "      <td>0</td>\n",
       "      <td>348</td>\n",
       "      <td>77007</td>\n",
       "      <td>17614</td>\n",
       "      <td>201</td>\n",
       "      <td>434</td>\n",
       "      <td>0</td>\n",
       "      <td>25</td>\n",
       "      <td>2541</td>\n",
       "      <td>...</td>\n",
       "      <td>0</td>\n",
       "      <td>48601</td>\n",
       "      <td>17080</td>\n",
       "      <td>225</td>\n",
       "      <td>582</td>\n",
       "      <td>4</td>\n",
       "      <td>4278</td>\n",
       "      <td>316</td>\n",
       "      <td>3061</td>\n",
       "      <td>249299</td>\n",
       "    </tr>\n",
       "    <tr>\n",
       "      <th>Subway Station</th>\n",
       "      <td>22</td>\n",
       "      <td>0</td>\n",
       "      <td>0</td>\n",
       "      <td>0</td>\n",
       "      <td>0</td>\n",
       "      <td>0</td>\n",
       "      <td>0</td>\n",
       "      <td>0</td>\n",
       "      <td>0</td>\n",
       "      <td>0</td>\n",
       "      <td>...</td>\n",
       "      <td>0</td>\n",
       "      <td>0</td>\n",
       "      <td>0</td>\n",
       "      <td>0</td>\n",
       "      <td>0</td>\n",
       "      <td>0</td>\n",
       "      <td>0</td>\n",
       "      <td>12</td>\n",
       "      <td>0</td>\n",
       "      <td>34</td>\n",
       "    </tr>\n",
       "    <tr>\n",
       "      <th>Terminal</th>\n",
       "      <td>0</td>\n",
       "      <td>0</td>\n",
       "      <td>0</td>\n",
       "      <td>0</td>\n",
       "      <td>0</td>\n",
       "      <td>0</td>\n",
       "      <td>0</td>\n",
       "      <td>1</td>\n",
       "      <td>0</td>\n",
       "      <td>0</td>\n",
       "      <td>...</td>\n",
       "      <td>0</td>\n",
       "      <td>0</td>\n",
       "      <td>0</td>\n",
       "      <td>0</td>\n",
       "      <td>0</td>\n",
       "      <td>0</td>\n",
       "      <td>0</td>\n",
       "      <td>0</td>\n",
       "      <td>0</td>\n",
       "      <td>1</td>\n",
       "    </tr>\n",
       "    <tr>\n",
       "      <th>Vacant Lot</th>\n",
       "      <td>0</td>\n",
       "      <td>0</td>\n",
       "      <td>0</td>\n",
       "      <td>0</td>\n",
       "      <td>77</td>\n",
       "      <td>0</td>\n",
       "      <td>0</td>\n",
       "      <td>0</td>\n",
       "      <td>0</td>\n",
       "      <td>0</td>\n",
       "      <td>...</td>\n",
       "      <td>0</td>\n",
       "      <td>0</td>\n",
       "      <td>0</td>\n",
       "      <td>0</td>\n",
       "      <td>0</td>\n",
       "      <td>0</td>\n",
       "      <td>0</td>\n",
       "      <td>0</td>\n",
       "      <td>0</td>\n",
       "      <td>77</td>\n",
       "    </tr>\n",
       "    <tr>\n",
       "      <th>Total</th>\n",
       "      <td>7775</td>\n",
       "      <td>1</td>\n",
       "      <td>427</td>\n",
       "      <td>77007</td>\n",
       "      <td>17710</td>\n",
       "      <td>286</td>\n",
       "      <td>1279</td>\n",
       "      <td>2</td>\n",
       "      <td>113</td>\n",
       "      <td>4407</td>\n",
       "      <td>...</td>\n",
       "      <td>4041</td>\n",
       "      <td>48601</td>\n",
       "      <td>17080</td>\n",
       "      <td>307</td>\n",
       "      <td>649</td>\n",
       "      <td>4</td>\n",
       "      <td>4493</td>\n",
       "      <td>591</td>\n",
       "      <td>3800</td>\n",
       "      <td>300567</td>\n",
       "    </tr>\n",
       "  </tbody>\n",
       "</table>\n",
       "<p>19 rows × 24 columns</p>\n",
       "</div>"
      ],
      "text/plain": [
       "Complaint Type              Animal Abuse  Animal in a Park  \\\n",
       "Location Type                                                \n",
       "Bridge                                 0                 0   \n",
       "Club/Bar/Restaurant                    0                 0   \n",
       "Commercial                            62                 0   \n",
       "Ferry                                  0                 0   \n",
       "Highway                                0                 0   \n",
       "House and Store                       93                 0   \n",
       "House of Worship                       0                 0   \n",
       "Park                                   0                 1   \n",
       "Park/Playground                      123                 0   \n",
       "Parking Lot                          110                 0   \n",
       "Residential Building                 227                 0   \n",
       "Residential Building/House          5085                 0   \n",
       "Roadway Tunnel                         0                 0   \n",
       "Store/Commercial                     522                 0   \n",
       "Street/Sidewalk                     1531                 0   \n",
       "Subway Station                        22                 0   \n",
       "Terminal                               0                 0   \n",
       "Vacant Lot                             0                 0   \n",
       "Total                               7775                 1   \n",
       "\n",
       "Complaint Type              Bike/Roller/Skate Chronic  Blocked Driveway  \\\n",
       "Location Type                                                             \n",
       "Bridge                                              0                 0   \n",
       "Club/Bar/Restaurant                                 0                 0   \n",
       "Commercial                                          0                 0   \n",
       "Ferry                                               0                 0   \n",
       "Highway                                             0                 0   \n",
       "House and Store                                     0                 0   \n",
       "House of Worship                                    0                 0   \n",
       "Park                                                0                 0   \n",
       "Park/Playground                                     0                 0   \n",
       "Parking Lot                                         0                 0   \n",
       "Residential Building                                0                 0   \n",
       "Residential Building/House                         26                 0   \n",
       "Roadway Tunnel                                      0                 0   \n",
       "Store/Commercial                                   53                 0   \n",
       "Street/Sidewalk                                   348             77007   \n",
       "Subway Station                                      0                 0   \n",
       "Terminal                                            0                 0   \n",
       "Vacant Lot                                          0                 0   \n",
       "Total                                             427             77007   \n",
       "\n",
       "Complaint Type              Derelict Vehicle  Disorderly Youth  Drinking  \\\n",
       "Location Type                                                              \n",
       "Bridge                                     0                 0         0   \n",
       "Club/Bar/Restaurant                        0                 0       366   \n",
       "Commercial                                 0                 0         0   \n",
       "Ferry                                      0                 0         0   \n",
       "Highway                                   14                 0         0   \n",
       "House and Store                            0                 0         0   \n",
       "House of Worship                           0                 0         0   \n",
       "Park                                       0                 0         0   \n",
       "Park/Playground                            0                 0        98   \n",
       "Parking Lot                                0                 0         0   \n",
       "Residential Building                       0                 0         0   \n",
       "Residential Building/House                 0                77       291   \n",
       "Roadway Tunnel                             5                 0         0   \n",
       "Store/Commercial                           0                 8        90   \n",
       "Street/Sidewalk                        17614               201       434   \n",
       "Subway Station                             0                 0         0   \n",
       "Terminal                                   0                 0         0   \n",
       "Vacant Lot                                77                 0         0   \n",
       "Total                                  17710               286      1279   \n",
       "\n",
       "Complaint Type              Ferry Complaint  Graffiti  Homeless Encampment  \\\n",
       "Location Type                                                                \n",
       "Bridge                                    0         0                    2   \n",
       "Club/Bar/Restaurant                       0         0                    0   \n",
       "Commercial                                0         0                    0   \n",
       "Ferry                                     1         0                    0   \n",
       "Highway                                   0         0                   15   \n",
       "House and Store                           0         0                    0   \n",
       "House of Worship                          0         0                    0   \n",
       "Park                                      0         0                    0   \n",
       "Park/Playground                           0         0                  353   \n",
       "Parking Lot                               0         0                    0   \n",
       "Residential Building                      0         0                    0   \n",
       "Residential Building/House                0        56                  983   \n",
       "Roadway Tunnel                            0         0                    1   \n",
       "Store/Commercial                          0        32                  512   \n",
       "Street/Sidewalk                           0        25                 2541   \n",
       "Subway Station                            0         0                    0   \n",
       "Terminal                                  1         0                    0   \n",
       "Vacant Lot                                0         0                    0   \n",
       "Total                                     2       113                 4407   \n",
       "\n",
       "Complaint Type              ...  Noise - Park  Noise - Street/Sidewalk  \\\n",
       "Location Type               ...                                          \n",
       "Bridge                      ...             0                        0   \n",
       "Club/Bar/Restaurant         ...             0                        0   \n",
       "Commercial                  ...             0                        0   \n",
       "Ferry                       ...             0                        0   \n",
       "Highway                     ...             0                        0   \n",
       "House and Store             ...             0                        0   \n",
       "House of Worship            ...             0                        0   \n",
       "Park                        ...             0                        0   \n",
       "Park/Playground             ...          4041                        0   \n",
       "Parking Lot                 ...             0                        0   \n",
       "Residential Building        ...             0                        0   \n",
       "Residential Building/House  ...             0                        0   \n",
       "Roadway Tunnel              ...             0                        0   \n",
       "Store/Commercial            ...             0                        0   \n",
       "Street/Sidewalk             ...             0                    48601   \n",
       "Subway Station              ...             0                        0   \n",
       "Terminal                    ...             0                        0   \n",
       "Vacant Lot                  ...             0                        0   \n",
       "Total                       ...          4041                    48601   \n",
       "\n",
       "Complaint Type              Noise - Vehicle  Panhandling  \\\n",
       "Location Type                                              \n",
       "Bridge                                    0            0   \n",
       "Club/Bar/Restaurant                       0            0   \n",
       "Commercial                                0            0   \n",
       "Ferry                                     0            0   \n",
       "Highway                                   0            0   \n",
       "House and Store                           0            0   \n",
       "House of Worship                          0            0   \n",
       "Park                                      0            0   \n",
       "Park/Playground                           0            6   \n",
       "Parking Lot                               0            0   \n",
       "Residential Building                      0            0   \n",
       "Residential Building/House                0           16   \n",
       "Roadway Tunnel                            0            0   \n",
       "Store/Commercial                          0           60   \n",
       "Street/Sidewalk                       17080          225   \n",
       "Subway Station                            0            0   \n",
       "Terminal                                  0            0   \n",
       "Vacant Lot                                0            0   \n",
       "Total                                 17080          307   \n",
       "\n",
       "Complaint Type              Posting Advertisement  Squeegee  Traffic  \\\n",
       "Location Type                                                          \n",
       "Bridge                                          0         0        0   \n",
       "Club/Bar/Restaurant                             0         0        0   \n",
       "Commercial                                      0         0        0   \n",
       "Ferry                                           0         0        0   \n",
       "Highway                                         0         0      186   \n",
       "House and Store                                 0         0        0   \n",
       "House of Worship                                0         0        0   \n",
       "Park                                            0         0        0   \n",
       "Park/Playground                                 0         0        0   \n",
       "Parking Lot                                     7         0        0   \n",
       "Residential Building                            0         0        0   \n",
       "Residential Building/House                     54         0        0   \n",
       "Roadway Tunnel                                  0         0       29   \n",
       "Store/Commercial                                6         0        0   \n",
       "Street/Sidewalk                               582         4     4278   \n",
       "Subway Station                                  0         0        0   \n",
       "Terminal                                        0         0        0   \n",
       "Vacant Lot                                      0         0        0   \n",
       "Total                                         649         4     4493   \n",
       "\n",
       "Complaint Type              Urinating in Public  Vending   Total  \n",
       "Location Type                                                     \n",
       "Bridge                                        0        0       2  \n",
       "Club/Bar/Restaurant                          21        0   17360  \n",
       "Commercial                                    0        0      62  \n",
       "Ferry                                         0        0       1  \n",
       "Highway                                       0        0     215  \n",
       "House and Store                               0        0      93  \n",
       "House of Worship                              0        0     929  \n",
       "Park                                          0        0       1  \n",
       "Park/Playground                              38      106    4773  \n",
       "Parking Lot                                   0        0     117  \n",
       "Residential Building                          0        0     227  \n",
       "Residential Building/House                  138      201    6960  \n",
       "Roadway Tunnel                                0        0      35  \n",
       "Store/Commercial                             66      432   20381  \n",
       "Street/Sidewalk                             316     3061  249299  \n",
       "Subway Station                               12        0      34  \n",
       "Terminal                                      0        0       1  \n",
       "Vacant Lot                                    0        0      77  \n",
       "Total                                       591     3800  300567  \n",
       "\n",
       "[19 rows x 24 columns]"
      ]
     },
     "execution_count": 44,
     "metadata": {},
     "output_type": "execute_result"
    }
   ],
   "source": [
    "chi_sq_table"
   ]
  },
  {
   "cell_type": "markdown",
   "id": "a4be940b",
   "metadata": {},
   "source": [
    "### $ChiSquare = \\frac{\\sum (f_e - f_o)^2} { f_e} $"
   ]
  },
  {
   "cell_type": "markdown",
   "id": "656b556a",
   "metadata": {},
   "source": [
    "Let's calculate expected values -"
   ]
  },
  {
   "cell_type": "code",
   "execution_count": 45,
   "id": "777a5f1a",
   "metadata": {},
   "outputs": [
    {
     "data": {
      "text/plain": [
       "300567"
      ]
     },
     "execution_count": 45,
     "metadata": {},
     "output_type": "execute_result"
    }
   ],
   "source": [
    "# Total number of samples\n",
    "N = chi_sq_table.iloc[-1,-1]\n",
    "N"
   ]
  },
  {
   "cell_type": "code",
   "execution_count": 46,
   "id": "a405c8eb",
   "metadata": {},
   "outputs": [
    {
     "name": "stdout",
     "output_type": "stream",
     "text": [
      "Number of rows =  19\n",
      "Number of columns =  24\n"
     ]
    }
   ],
   "source": [
    "rows, cols = chi_sq_table.shape\n",
    "print('Number of rows = ',rows)\n",
    "print('Number of columns = ',cols)"
   ]
  },
  {
   "cell_type": "code",
   "execution_count": 47,
   "id": "91691fea",
   "metadata": {},
   "outputs": [
    {
     "data": {
      "text/plain": [
       "(18, 23)"
      ]
     },
     "execution_count": 47,
     "metadata": {},
     "output_type": "execute_result"
    }
   ],
   "source": [
    "# Creating Expexted Table\n",
    "E = np.zeros((rows-1, cols-1)) # Excluding margins.\n",
    "for i in range(rows-1):\n",
    "    for j in range(cols-1):\n",
    "        E[i,j] = (chi_sq_table.iloc[-1,j] * chi_sq_table.iloc[i,-1])/ N \n",
    "E.shape                "
   ]
  },
  {
   "cell_type": "code",
   "execution_count": 48,
   "id": "b7037984",
   "metadata": {},
   "outputs": [
    {
     "data": {
      "text/plain": [
       "(18, 23)"
      ]
     },
     "execution_count": 48,
     "metadata": {},
     "output_type": "execute_result"
    }
   ],
   "source": [
    "# Observed values.\n",
    "O = chi_sq_table.iloc[:-1,:-1].values # Converting to numpy array.\n",
    "O.shape"
   ]
  },
  {
   "cell_type": "code",
   "execution_count": 49,
   "id": "99946814",
   "metadata": {},
   "outputs": [],
   "source": [
    "def chi_square_values(expected,observed):\n",
    "    return (np.square(expected-observed)) / expected"
   ]
  },
  {
   "cell_type": "code",
   "execution_count": 50,
   "id": "bcbff657",
   "metadata": {},
   "outputs": [
    {
     "name": "stdout",
     "output_type": "stream",
     "text": [
      "Chi-square value 1638407.580569628\n"
     ]
    }
   ],
   "source": [
    "n_rows, n_cols = O.shape\n",
    "chi_square_val = 0\n",
    "for i in range(n_rows):\n",
    "    for j in range(n_cols):\n",
    "        val = chi_square_values(E[i,j], O[i,j])\n",
    "        chi_square_val += val\n",
    "        \n",
    "print('Chi-square value',chi_square_val)        "
   ]
  },
  {
   "cell_type": "code",
   "execution_count": 51,
   "id": "fb5b100a",
   "metadata": {},
   "outputs": [
    {
     "data": {
      "text/plain": [
       "374"
      ]
     },
     "execution_count": 51,
     "metadata": {},
     "output_type": "execute_result"
    }
   ],
   "source": [
    "# Calculating degrees of freedom.\n",
    "dof_chi_square = (n_cols-1) * (n_rows-1)\n",
    "dof_chi_square"
   ]
  },
  {
   "cell_type": "code",
   "execution_count": 52,
   "id": "0efba239",
   "metadata": {},
   "outputs": [
    {
     "data": {
      "text/plain": [
       "0.0"
      ]
     },
     "execution_count": 52,
     "metadata": {},
     "output_type": "execute_result"
    }
   ],
   "source": [
    "# Calculating p-value.\n",
    "cdf_chi_square = stats.chi2.cdf(chi_square_val,dof_chi_square)\n",
    "p_value = 1- cdf_chi_square\n",
    "p_value"
   ]
  },
  {
   "cell_type": "code",
   "execution_count": 53,
   "id": "3459c192",
   "metadata": {},
   "outputs": [
    {
     "data": {
      "text/plain": [
       "True"
      ]
     },
     "execution_count": 53,
     "metadata": {},
     "output_type": "execute_result"
    }
   ],
   "source": [
    "p_value < 0.05"
   ]
  },
  {
   "cell_type": "markdown",
   "id": "f60f88c1",
   "metadata": {},
   "source": [
    "- The p_value < $\\alpha$.\n",
    "- We reject the Null Hypothesis."
   ]
  },
  {
   "cell_type": "markdown",
   "id": "d79fbc24",
   "metadata": {},
   "source": [
    "### Conclusion : The location type and complaint type are related."
   ]
  }
 ],
 "metadata": {
  "kernelspec": {
   "display_name": "Python 3 (ipykernel)",
   "language": "python",
   "name": "python3"
  },
  "language_info": {
   "codemirror_mode": {
    "name": "ipython",
    "version": 3
   },
   "file_extension": ".py",
   "mimetype": "text/x-python",
   "name": "python",
   "nbconvert_exporter": "python",
   "pygments_lexer": "ipython3",
   "version": "3.9.7"
  }
 },
 "nbformat": 4,
 "nbformat_minor": 5
}
